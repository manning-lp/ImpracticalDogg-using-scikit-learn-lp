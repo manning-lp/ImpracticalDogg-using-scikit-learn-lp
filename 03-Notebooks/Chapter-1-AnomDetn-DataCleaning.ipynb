{
 "cells": [
  {
   "cell_type": "markdown",
   "id": "7de56c83",
   "metadata": {},
   "source": [
    "# Anomaly Detection Notebook: Chapter 1\n",
    "## Date Started:   8 August 2022\n",
    "## Latest Update: 13 June 2024"
   ]
  },
  {
   "cell_type": "code",
   "execution_count": 23,
   "id": "5a88edad-1dfc-44a7-9c0c-7b211088069e",
   "metadata": {},
   "outputs": [
    {
     "name": "stdout",
     "output_type": "stream",
     "text": [
      "ipython                   8.12.3\n",
      "python-dateutil           2.9.0.post0\n",
      "python-json-logger        2.0.7\n",
      "types-python-dateutil     2.9.0.20240316\n"
     ]
    }
   ],
   "source": [
    "! pip list | grep python"
   ]
  },
  {
   "cell_type": "markdown",
   "id": "9b41a11d-7f44-4fda-a5bf-a5369687c6dc",
   "metadata": {},
   "source": [
    "## 0. Define Metadata / Main Variables"
   ]
  },
  {
   "cell_type": "code",
   "execution_count": 24,
   "id": "4b3161d8-4a67-4073-8f96-df18298f32f7",
   "metadata": {},
   "outputs": [],
   "source": [
    "# Define the name of the target class column here instead of manually typing it out everywhere\n",
    "target_class_name = 6\n",
    "\n",
    "# Fill in the names of what you want to call the 0 and 1 class\n",
    "labels = ['inliers', 'outliers']\n",
    "\n",
    "# Add directory as a string\n",
    "rawdataDirectory = \"../01-Data/Raw/\"\n",
    "dataDirectory = \"../01-Data/\"\n",
    "dataFile = \"thyroid.mat\"\n",
    "\n",
    "# Any exported artifacts will have this date\n",
    "export_date = '202406'"
   ]
  },
  {
   "cell_type": "markdown",
   "id": "1c1b4dd0-032b-4eea-b58b-6a672a959c93",
   "metadata": {},
   "source": [
    "### Key Variables\n",
    "#### thyroidX - Individual test results\n",
    "#### thyroidY - Final diagnostic result - Presence or absence of cancer "
   ]
  },
  {
   "cell_type": "markdown",
   "id": "55492b24",
   "metadata": {
    "jp-MarkdownHeadingCollapsed": true
   },
   "source": [
    "## 1. Download data to directory - Done"
   ]
  },
  {
   "cell_type": "markdown",
   "id": "75fc0149",
   "metadata": {},
   "source": [
    "## 2. Import relevant packages"
   ]
  },
  {
   "cell_type": "code",
   "execution_count": 25,
   "id": "49aaf077",
   "metadata": {},
   "outputs": [],
   "source": [
    "import sklearn \n",
    "import scipy\n",
    "from scipy import io\n",
    "import numpy as np\n",
    "\n",
    "import matplotlib \n",
    "%matplotlib inline\n",
    "\n",
    "import pandas as pd\n",
    "import dask\n",
    "\n",
    "from scipy.io.arff import loadarff\n",
    "import scipy.io as sio\n",
    "\n",
    "from collections import Counter\n",
    "from sklearn.preprocessing import MinMaxScaler\n",
    "\n",
    "from sklearn.covariance import EllipticEnvelope\n",
    "from sklearn.ensemble import IsolationForest\n",
    "from sklearn.neighbors import LocalOutlierFactor\n",
    "from sklearn.svm import OneClassSVM\n",
    "\n",
    "from sklearn.metrics import accuracy_score, classification_report,confusion_matrix \n",
    "from sklearn.metrics import roc_auc_score, f1_score, precision_score, recall_score, average_precision_score\n"
   ]
  },
  {
   "cell_type": "markdown",
   "id": "854f1bc5",
   "metadata": {},
   "source": [
    "## 3. Load Dataset"
   ]
  },
  {
   "cell_type": "code",
   "execution_count": 26,
   "id": "dc95875d",
   "metadata": {},
   "outputs": [
    {
     "name": "stdout",
     "output_type": "stream",
     "text": [
      "../01-Data/Raw/thyroid.mat\n"
     ]
    }
   ],
   "source": [
    "dataFile = rawdataDirectory + dataFile\n",
    "print (dataFile)"
   ]
  },
  {
   "cell_type": "code",
   "execution_count": 27,
   "id": "3964478e",
   "metadata": {},
   "outputs": [],
   "source": [
    "# Load to dictionary\n",
    "thyroidD = scipy.io.loadmat(dataFile)"
   ]
  },
  {
   "cell_type": "markdown",
   "id": "6e87d68d",
   "metadata": {},
   "source": [
    "## 4. Extract X and Y and Concatenate"
   ]
  },
  {
   "cell_type": "markdown",
   "id": "1130e592",
   "metadata": {},
   "source": [
    "### 4.1 Explore Dataset as Dictionary"
   ]
  },
  {
   "cell_type": "code",
   "execution_count": 28,
   "id": "4f0367db",
   "metadata": {},
   "outputs": [
    {
     "data": {
      "text/plain": [
       "5"
      ]
     },
     "execution_count": 28,
     "metadata": {},
     "output_type": "execute_result"
    }
   ],
   "source": [
    "# No of key-value pairs\n",
    "len(thyroidD)"
   ]
  },
  {
   "cell_type": "code",
   "execution_count": 29,
   "id": "7afde3d4",
   "metadata": {},
   "outputs": [
    {
     "data": {
      "text/plain": [
       "['__header__', '__version__', '__globals__', 'X', 'y']"
      ]
     },
     "execution_count": 29,
     "metadata": {},
     "output_type": "execute_result"
    }
   ],
   "source": [
    "# \"Iterating over a dictionary produces its' keys\"\n",
    "# The numeric data are stored in the values \"X\" and \"y\"\n",
    "# Note: The value for X is a list of lists for diagnostic information\n",
    "#       The value for y is a list of lists (length 1) giving the final diagnosis\n",
    "[i for i in thyroidD]"
   ]
  },
  {
   "cell_type": "code",
   "execution_count": 33,
   "id": "2f0fbd0a",
   "metadata": {},
   "outputs": [
    {
     "name": "stdout",
     "output_type": "stream",
     "text": [
      "__header__ b'MATLAB 5.0 MAT-file, written by Octave 3.8.0, 2014-12-05 13:11:25 UTC'\n",
      "__version__ 1.0\n",
      "__globals__ []\n",
      "X [[7.74193548e-01 1.13207547e-03 1.37571157e-01 2.75700935e-01\n",
      "  2.95774648e-01 2.36065574e-01]\n",
      " [2.47311828e-01 4.71698113e-04 2.79886148e-01 3.29439252e-01\n",
      "  5.35211268e-01 1.73770492e-01]\n",
      " [4.94623656e-01 3.58490566e-03 2.22960152e-01 2.33644860e-01\n",
      "  5.25821596e-01 1.24590164e-01]\n",
      " ...\n",
      " [9.35483871e-01 2.45283019e-02 1.60341556e-01 2.82710280e-01\n",
      "  3.75586854e-01 2.00000000e-01]\n",
      " [6.77419355e-01 1.47169811e-03 1.90702087e-01 2.42990654e-01\n",
      "  3.23943662e-01 1.95081967e-01]\n",
      " [4.83870968e-01 3.56603774e-03 1.90702087e-01 2.12616822e-01\n",
      "  3.38028169e-01 1.63934426e-01]]\n",
      "y [[0.]\n",
      " [0.]\n",
      " [0.]\n",
      " ...\n",
      " [0.]\n",
      " [0.]\n",
      " [0.]]\n"
     ]
    }
   ],
   "source": [
    "# Loop through both keys and values, by using the items() function:\n",
    "for i, j in thyroidD.items():\n",
    "    print(i, j)\n",
    "# thyroidD"
   ]
  },
  {
   "cell_type": "code",
   "execution_count": 34,
   "id": "c7f148cd",
   "metadata": {},
   "outputs": [
    {
     "name": "stdout",
     "output_type": "stream",
     "text": [
      "thyroidHdr =  b'MATLAB 5.0 MAT-file, written by Octave 3.8.0, 2014-12-05 13:11:25 UTC' \n",
      " thyroidVrsn =  1.0 \n",
      " thyroidGlobals =  [] \n",
      "\n"
     ]
    }
   ],
   "source": [
    "thyroidHdr = thyroidD[\"__header__\"]\n",
    "thyroidVrsn = thyroidD[\"__version__\"]\n",
    "thyroidGlobals = thyroidD[\"__globals__\"]\n",
    "\n",
    "print(\"thyroidHdr = \", thyroidHdr,\"\\n\",\n",
    "      \"thyroidVrsn = \", thyroidVrsn,\"\\n\",\n",
    "      \"thyroidGlobals = \", thyroidGlobals,\"\\n\")"
   ]
  },
  {
   "cell_type": "code",
   "execution_count": 35,
   "id": "161d7052",
   "metadata": {},
   "outputs": [
    {
     "name": "stdout",
     "output_type": "stream",
     "text": [
      "Key: __header__, Value: b'MATLAB 5.0 MAT-file, written by Octave 3.8.0, 2014-12-05 13:11:25 UTC'\n",
      "Key: __version__, Value: 1.0\n",
      "Key: __globals__, Value: []\n",
      "Key: X, Value: [[7.74193548e-01 1.13207547e-03 1.37571157e-01 2.75700935e-01\n",
      "  2.95774648e-01 2.36065574e-01]\n",
      " [2.47311828e-01 4.71698113e-04 2.79886148e-01 3.29439252e-01\n",
      "  5.35211268e-01 1.73770492e-01]\n",
      " [4.94623656e-01 3.58490566e-03 2.22960152e-01 2.33644860e-01\n",
      "  5.25821596e-01 1.24590164e-01]\n",
      " ...\n",
      " [9.35483871e-01 2.45283019e-02 1.60341556e-01 2.82710280e-01\n",
      "  3.75586854e-01 2.00000000e-01]\n",
      " [6.77419355e-01 1.47169811e-03 1.90702087e-01 2.42990654e-01\n",
      "  3.23943662e-01 1.95081967e-01]\n",
      " [4.83870968e-01 3.56603774e-03 1.90702087e-01 2.12616822e-01\n",
      "  3.38028169e-01 1.63934426e-01]]\n",
      "Key: y, Value: [[0.]\n",
      " [0.]\n",
      " [0.]\n",
      " ...\n",
      " [0.]\n",
      " [0.]\n",
      " [0.]]\n"
     ]
    }
   ],
   "source": [
    "items = list(thyroidD.items())\n",
    "for key, value in items:\n",
    "    print(f\"Key: {key}, Value: {value}\")"
   ]
  },
  {
   "cell_type": "markdown",
   "id": "3c0eb1f6",
   "metadata": {},
   "source": [
    "### 4.2 Extract X and y"
   ]
  },
  {
   "cell_type": "code",
   "execution_count": 36,
   "id": "682bd4c4",
   "metadata": {},
   "outputs": [],
   "source": [
    "#thyroid_X = pd.DataFrame(thyroidD[\"X\"])\n",
    "#print(type(thyroid_X))\n",
    "#thyroid_X"
   ]
  },
  {
   "cell_type": "code",
   "execution_count": 43,
   "id": "57f825dd-fb08-4f36-bf01-e9391fa9b9e2",
   "metadata": {},
   "outputs": [
    {
     "data": {
      "text/plain": [
       "((3772, 6), (3772, 1))"
      ]
     },
     "execution_count": 43,
     "metadata": {},
     "output_type": "execute_result"
    }
   ],
   "source": [
    "# Store the features and target objects in their own variables (numpy arrays)\n",
    "#         for easy retreival\n",
    "thyroid_X=thyroidD['X']\n",
    "thyroid_y=thyroidD['y']\n",
    "\n",
    "thyroid_X.shape, thyroid_y.shape"
   ]
  },
  {
   "cell_type": "markdown",
   "id": "49b31166",
   "metadata": {},
   "source": [
    "### 4.3 Concatenate the numpy arrays and Inspect"
   ]
  },
  {
   "cell_type": "code",
   "execution_count": 42,
   "id": "a4ea7065",
   "metadata": {},
   "outputs": [
    {
     "name": "stdout",
     "output_type": "stream",
     "text": [
      "<class 'pandas.core.frame.DataFrame'>\n",
      "RangeIndex: 3772 entries, 0 to 3771\n",
      "Data columns (total 7 columns):\n",
      " #   Column  Non-Null Count  Dtype  \n",
      "---  ------  --------------  -----  \n",
      " 0   0       3772 non-null   float64\n",
      " 1   1       3772 non-null   float64\n",
      " 2   2       3772 non-null   float64\n",
      " 3   3       3772 non-null   float64\n",
      " 4   4       3772 non-null   float64\n",
      " 5   5       3772 non-null   float64\n",
      " 6   6       3772 non-null   float64\n",
      "dtypes: float64(7)\n",
      "memory usage: 206.4 KB\n"
     ]
    }
   ],
   "source": [
    "# Convert numpy arrays to a dataframe\n",
    "thyroidDF=pd.DataFrame((np.concatenate((thyroid_X, thyroid_y), axis=1)))\n",
    "\n",
    "pd.DataFrame.info(thyroidDF)"
   ]
  },
  {
   "cell_type": "markdown",
   "id": "28c6b5c7",
   "metadata": {},
   "source": [
    "#### Inspect rows"
   ]
  },
  {
   "cell_type": "code",
   "execution_count": 44,
   "id": "a40c3f1e",
   "metadata": {},
   "outputs": [
    {
     "data": {
      "text/html": [
       "<div>\n",
       "<style scoped>\n",
       "    .dataframe tbody tr th:only-of-type {\n",
       "        vertical-align: middle;\n",
       "    }\n",
       "\n",
       "    .dataframe tbody tr th {\n",
       "        vertical-align: top;\n",
       "    }\n",
       "\n",
       "    .dataframe thead th {\n",
       "        text-align: right;\n",
       "    }\n",
       "</style>\n",
       "<table border=\"1\" class=\"dataframe\">\n",
       "  <thead>\n",
       "    <tr style=\"text-align: right;\">\n",
       "      <th></th>\n",
       "      <th>0</th>\n",
       "      <th>1</th>\n",
       "      <th>2</th>\n",
       "      <th>3</th>\n",
       "      <th>4</th>\n",
       "      <th>5</th>\n",
       "      <th>6</th>\n",
       "    </tr>\n",
       "  </thead>\n",
       "  <tbody>\n",
       "    <tr>\n",
       "      <th>2973</th>\n",
       "      <td>0.440860</td>\n",
       "      <td>0.002453</td>\n",
       "      <td>0.156546</td>\n",
       "      <td>0.191589</td>\n",
       "      <td>0.206573</td>\n",
       "      <td>0.214754</td>\n",
       "      <td>0.0</td>\n",
       "    </tr>\n",
       "    <tr>\n",
       "      <th>148</th>\n",
       "      <td>0.516129</td>\n",
       "      <td>0.001887</td>\n",
       "      <td>0.147059</td>\n",
       "      <td>0.212617</td>\n",
       "      <td>0.352113</td>\n",
       "      <td>0.159016</td>\n",
       "      <td>0.0</td>\n",
       "    </tr>\n",
       "    <tr>\n",
       "      <th>707</th>\n",
       "      <td>0.397849</td>\n",
       "      <td>0.000377</td>\n",
       "      <td>0.137571</td>\n",
       "      <td>0.107477</td>\n",
       "      <td>0.244131</td>\n",
       "      <td>0.106557</td>\n",
       "      <td>0.0</td>\n",
       "    </tr>\n",
       "    <tr>\n",
       "      <th>2199</th>\n",
       "      <td>0.333333</td>\n",
       "      <td>0.000000</td>\n",
       "      <td>0.270398</td>\n",
       "      <td>0.317757</td>\n",
       "      <td>0.450704</td>\n",
       "      <td>0.193443</td>\n",
       "      <td>0.0</td>\n",
       "    </tr>\n",
       "    <tr>\n",
       "      <th>745</th>\n",
       "      <td>0.193548</td>\n",
       "      <td>0.034717</td>\n",
       "      <td>0.185009</td>\n",
       "      <td>0.240654</td>\n",
       "      <td>0.380282</td>\n",
       "      <td>0.168672</td>\n",
       "      <td>0.0</td>\n",
       "    </tr>\n",
       "  </tbody>\n",
       "</table>\n",
       "</div>"
      ],
      "text/plain": [
       "             0         1         2         3         4         5    6\n",
       "2973  0.440860  0.002453  0.156546  0.191589  0.206573  0.214754  0.0\n",
       "148   0.516129  0.001887  0.147059  0.212617  0.352113  0.159016  0.0\n",
       "707   0.397849  0.000377  0.137571  0.107477  0.244131  0.106557  0.0\n",
       "2199  0.333333  0.000000  0.270398  0.317757  0.450704  0.193443  0.0\n",
       "745   0.193548  0.034717  0.185009  0.240654  0.380282  0.168672  0.0"
      ]
     },
     "execution_count": 44,
     "metadata": {},
     "output_type": "execute_result"
    }
   ],
   "source": [
    "# Random sample of 5 records\n",
    "thyroidDF.sample(5)"
   ]
  },
  {
   "cell_type": "markdown",
   "id": "2d1d3aa7-0ca7-4e4f-8f96-d91fda73bd19",
   "metadata": {},
   "source": [
    "Lets check the head & tail to make sure there is nothing going on at the last row or the header"
   ]
  },
  {
   "cell_type": "code",
   "execution_count": 45,
   "id": "51e3696a-a9ce-4064-83c4-f9c69e1ee780",
   "metadata": {},
   "outputs": [
    {
     "data": {
      "text/html": [
       "<div>\n",
       "<style scoped>\n",
       "    .dataframe tbody tr th:only-of-type {\n",
       "        vertical-align: middle;\n",
       "    }\n",
       "\n",
       "    .dataframe tbody tr th {\n",
       "        vertical-align: top;\n",
       "    }\n",
       "\n",
       "    .dataframe thead th {\n",
       "        text-align: right;\n",
       "    }\n",
       "</style>\n",
       "<table border=\"1\" class=\"dataframe\">\n",
       "  <thead>\n",
       "    <tr style=\"text-align: right;\">\n",
       "      <th></th>\n",
       "      <th>0</th>\n",
       "      <th>1</th>\n",
       "      <th>2</th>\n",
       "      <th>3</th>\n",
       "      <th>4</th>\n",
       "      <th>5</th>\n",
       "      <th>6</th>\n",
       "    </tr>\n",
       "  </thead>\n",
       "  <tbody>\n",
       "    <tr>\n",
       "      <th>0</th>\n",
       "      <td>0.774194</td>\n",
       "      <td>0.001132</td>\n",
       "      <td>0.137571</td>\n",
       "      <td>0.275701</td>\n",
       "      <td>0.295775</td>\n",
       "      <td>0.236066</td>\n",
       "      <td>0.0</td>\n",
       "    </tr>\n",
       "    <tr>\n",
       "      <th>1</th>\n",
       "      <td>0.247312</td>\n",
       "      <td>0.000472</td>\n",
       "      <td>0.279886</td>\n",
       "      <td>0.329439</td>\n",
       "      <td>0.535211</td>\n",
       "      <td>0.173770</td>\n",
       "      <td>0.0</td>\n",
       "    </tr>\n",
       "    <tr>\n",
       "      <th>2</th>\n",
       "      <td>0.494624</td>\n",
       "      <td>0.003585</td>\n",
       "      <td>0.222960</td>\n",
       "      <td>0.233645</td>\n",
       "      <td>0.525822</td>\n",
       "      <td>0.124590</td>\n",
       "      <td>0.0</td>\n",
       "    </tr>\n",
       "  </tbody>\n",
       "</table>\n",
       "</div>"
      ],
      "text/plain": [
       "          0         1         2         3         4         5    6\n",
       "0  0.774194  0.001132  0.137571  0.275701  0.295775  0.236066  0.0\n",
       "1  0.247312  0.000472  0.279886  0.329439  0.535211  0.173770  0.0\n",
       "2  0.494624  0.003585  0.222960  0.233645  0.525822  0.124590  0.0"
      ]
     },
     "execution_count": 45,
     "metadata": {},
     "output_type": "execute_result"
    }
   ],
   "source": [
    "thyroidDF.head(3)"
   ]
  },
  {
   "cell_type": "code",
   "execution_count": 46,
   "id": "2106bb8d-9d70-4674-baf8-a0e79fb0807d",
   "metadata": {},
   "outputs": [
    {
     "data": {
      "text/html": [
       "<div>\n",
       "<style scoped>\n",
       "    .dataframe tbody tr th:only-of-type {\n",
       "        vertical-align: middle;\n",
       "    }\n",
       "\n",
       "    .dataframe tbody tr th {\n",
       "        vertical-align: top;\n",
       "    }\n",
       "\n",
       "    .dataframe thead th {\n",
       "        text-align: right;\n",
       "    }\n",
       "</style>\n",
       "<table border=\"1\" class=\"dataframe\">\n",
       "  <thead>\n",
       "    <tr style=\"text-align: right;\">\n",
       "      <th></th>\n",
       "      <th>0</th>\n",
       "      <th>1</th>\n",
       "      <th>2</th>\n",
       "      <th>3</th>\n",
       "      <th>4</th>\n",
       "      <th>5</th>\n",
       "      <th>6</th>\n",
       "    </tr>\n",
       "  </thead>\n",
       "  <tbody>\n",
       "    <tr>\n",
       "      <th>3769</th>\n",
       "      <td>0.935484</td>\n",
       "      <td>0.024528</td>\n",
       "      <td>0.160342</td>\n",
       "      <td>0.282710</td>\n",
       "      <td>0.375587</td>\n",
       "      <td>0.200000</td>\n",
       "      <td>0.0</td>\n",
       "    </tr>\n",
       "    <tr>\n",
       "      <th>3770</th>\n",
       "      <td>0.677419</td>\n",
       "      <td>0.001472</td>\n",
       "      <td>0.190702</td>\n",
       "      <td>0.242991</td>\n",
       "      <td>0.323944</td>\n",
       "      <td>0.195082</td>\n",
       "      <td>0.0</td>\n",
       "    </tr>\n",
       "    <tr>\n",
       "      <th>3771</th>\n",
       "      <td>0.483871</td>\n",
       "      <td>0.003566</td>\n",
       "      <td>0.190702</td>\n",
       "      <td>0.212617</td>\n",
       "      <td>0.338028</td>\n",
       "      <td>0.163934</td>\n",
       "      <td>0.0</td>\n",
       "    </tr>\n",
       "  </tbody>\n",
       "</table>\n",
       "</div>"
      ],
      "text/plain": [
       "             0         1         2         3         4         5    6\n",
       "3769  0.935484  0.024528  0.160342  0.282710  0.375587  0.200000  0.0\n",
       "3770  0.677419  0.001472  0.190702  0.242991  0.323944  0.195082  0.0\n",
       "3771  0.483871  0.003566  0.190702  0.212617  0.338028  0.163934  0.0"
      ]
     },
     "execution_count": 46,
     "metadata": {},
     "output_type": "execute_result"
    }
   ],
   "source": [
    "thyroidDF.tail(3)"
   ]
  },
  {
   "cell_type": "markdown",
   "id": "d8a141bb-d60f-4d40-a33d-05b173cd988c",
   "metadata": {},
   "source": [
    "#### No trouble with loading the data - both head and tail are clean"
   ]
  },
  {
   "cell_type": "markdown",
   "id": "2838b443-588c-4a9d-a633-1ca5d24cb4e8",
   "metadata": {},
   "source": [
    "### Summary Stats"
   ]
  },
  {
   "cell_type": "code",
   "execution_count": 19,
   "id": "50a7ccbb-8169-4f3c-82f6-c53f73d13487",
   "metadata": {},
   "outputs": [
    {
     "data": {
      "text/html": [
       "<div>\n",
       "<style scoped>\n",
       "    .dataframe tbody tr th:only-of-type {\n",
       "        vertical-align: middle;\n",
       "    }\n",
       "\n",
       "    .dataframe tbody tr th {\n",
       "        vertical-align: top;\n",
       "    }\n",
       "\n",
       "    .dataframe thead th {\n",
       "        text-align: right;\n",
       "    }\n",
       "</style>\n",
       "<table border=\"1\" class=\"dataframe\">\n",
       "  <thead>\n",
       "    <tr style=\"text-align: right;\">\n",
       "      <th></th>\n",
       "      <th>0</th>\n",
       "      <th>1</th>\n",
       "      <th>2</th>\n",
       "      <th>3</th>\n",
       "      <th>4</th>\n",
       "      <th>5</th>\n",
       "      <th>0</th>\n",
       "    </tr>\n",
       "  </thead>\n",
       "  <tbody>\n",
       "    <tr>\n",
       "      <th>count</th>\n",
       "      <td>3772.000000</td>\n",
       "      <td>3772.000000</td>\n",
       "      <td>3772.000000</td>\n",
       "      <td>3772.000000</td>\n",
       "      <td>3772.000000</td>\n",
       "      <td>3772.000000</td>\n",
       "      <td>3772.000000</td>\n",
       "    </tr>\n",
       "    <tr>\n",
       "      <th>mean</th>\n",
       "      <td>0.543121</td>\n",
       "      <td>0.008983</td>\n",
       "      <td>0.186826</td>\n",
       "      <td>0.248332</td>\n",
       "      <td>0.376941</td>\n",
       "      <td>0.177301</td>\n",
       "      <td>0.024655</td>\n",
       "    </tr>\n",
       "    <tr>\n",
       "      <th>std</th>\n",
       "      <td>0.203790</td>\n",
       "      <td>0.043978</td>\n",
       "      <td>0.070405</td>\n",
       "      <td>0.080579</td>\n",
       "      <td>0.087382</td>\n",
       "      <td>0.054907</td>\n",
       "      <td>0.155093</td>\n",
       "    </tr>\n",
       "    <tr>\n",
       "      <th>min</th>\n",
       "      <td>0.000000</td>\n",
       "      <td>0.000000</td>\n",
       "      <td>0.000000</td>\n",
       "      <td>0.000000</td>\n",
       "      <td>0.000000</td>\n",
       "      <td>0.000000</td>\n",
       "      <td>0.000000</td>\n",
       "    </tr>\n",
       "    <tr>\n",
       "      <th>25%</th>\n",
       "      <td>0.376344</td>\n",
       "      <td>0.001132</td>\n",
       "      <td>0.156546</td>\n",
       "      <td>0.203271</td>\n",
       "      <td>0.328638</td>\n",
       "      <td>0.149180</td>\n",
       "      <td>0.000000</td>\n",
       "    </tr>\n",
       "    <tr>\n",
       "      <th>50%</th>\n",
       "      <td>0.569892</td>\n",
       "      <td>0.003019</td>\n",
       "      <td>0.190702</td>\n",
       "      <td>0.241822</td>\n",
       "      <td>0.375587</td>\n",
       "      <td>0.173770</td>\n",
       "      <td>0.000000</td>\n",
       "    </tr>\n",
       "    <tr>\n",
       "      <th>75%</th>\n",
       "      <td>0.709677</td>\n",
       "      <td>0.004528</td>\n",
       "      <td>0.213472</td>\n",
       "      <td>0.282710</td>\n",
       "      <td>0.413146</td>\n",
       "      <td>0.196721</td>\n",
       "      <td>0.000000</td>\n",
       "    </tr>\n",
       "    <tr>\n",
       "      <th>max</th>\n",
       "      <td>1.000000</td>\n",
       "      <td>1.000000</td>\n",
       "      <td>1.000000</td>\n",
       "      <td>1.000000</td>\n",
       "      <td>1.000000</td>\n",
       "      <td>1.000000</td>\n",
       "      <td>1.000000</td>\n",
       "    </tr>\n",
       "  </tbody>\n",
       "</table>\n",
       "</div>"
      ],
      "text/plain": [
       "                 0            1            2            3            4  \\\n",
       "count  3772.000000  3772.000000  3772.000000  3772.000000  3772.000000   \n",
       "mean      0.543121     0.008983     0.186826     0.248332     0.376941   \n",
       "std       0.203790     0.043978     0.070405     0.080579     0.087382   \n",
       "min       0.000000     0.000000     0.000000     0.000000     0.000000   \n",
       "25%       0.376344     0.001132     0.156546     0.203271     0.328638   \n",
       "50%       0.569892     0.003019     0.190702     0.241822     0.375587   \n",
       "75%       0.709677     0.004528     0.213472     0.282710     0.413146   \n",
       "max       1.000000     1.000000     1.000000     1.000000     1.000000   \n",
       "\n",
       "                 5            0  \n",
       "count  3772.000000  3772.000000  \n",
       "mean      0.177301     0.024655  \n",
       "std       0.054907     0.155093  \n",
       "min       0.000000     0.000000  \n",
       "25%       0.149180     0.000000  \n",
       "50%       0.173770     0.000000  \n",
       "75%       0.196721     0.000000  \n",
       "max       1.000000     1.000000  "
      ]
     },
     "execution_count": 19,
     "metadata": {},
     "output_type": "execute_result"
    }
   ],
   "source": [
    "thyroidDF.describe()\n",
    "# Looks like all the numbers are between 0 and 1"
   ]
  },
  {
   "cell_type": "markdown",
   "id": "b86e7831-b892-45c8-b3d8-fcf08422d855",
   "metadata": {},
   "source": [
    "### Unique Value Checking"
   ]
  },
  {
   "cell_type": "code",
   "execution_count": 48,
   "id": "06a48651-ed8d-4f70-b7c9-1deb4a2aaf41",
   "metadata": {},
   "outputs": [
    {
     "name": "stdout",
     "output_type": "stream",
     "text": [
      "0 93\n",
      "1 280\n",
      "2 72\n",
      "3 243\n",
      "4 141\n",
      "5 324\n",
      "6 2\n"
     ]
    }
   ],
   "source": [
    "# Original code from recommended solution. Failed previously \n",
    "#  due to there being a repeated column name of \"0\"\n",
    "#  SO use np concatenate rather than pd to avoid col name duplication\n",
    "for col in thyroidDF.columns:\n",
    "    print(col, len(thyroidDF[col].unique()))"
   ]
  },
  {
   "cell_type": "markdown",
   "id": "a762a30c-ee56-4fba-b335-d4988dffd209",
   "metadata": {},
   "source": [
    "#### All of the columns have a relatively small number of duplicate values. Except the last one. As the final diagnosis this should always be 0 or 1 "
   ]
  },
  {
   "cell_type": "markdown",
   "id": "53642316-6668-44e3-b58e-7b3ed2b1b566",
   "metadata": {},
   "source": [
    "#### Identifying Bad Columns"
   ]
  },
  {
   "cell_type": "code",
   "execution_count": 49,
   "id": "eb4d5eaa-14b8-49c4-9bdc-d70b4c92ead6",
   "metadata": {},
   "outputs": [],
   "source": [
    "def find_bad_columns_function(dataframe):\n",
    "    '''\n",
    "    Args: dataframe for which there maybe columns of concern that need to be fixed or deleted\n",
    "    \n",
    "    Logic: Find the columns that have \n",
    "    Null values\n",
    "    blanks in the strings\n",
    "    quasi constant/constant values defined by less than 1% variance\n",
    "    \n",
    "    Returns: 4 lists containing those features that have nulls, blanks, constant values throughout for numerical and categorical\n",
    "    \n",
    "    '''\n",
    "    \n",
    "    ###### Finding Null Values\n",
    "    null_col_list = dataframe.columns[dataframe.isna().any()].tolist()\n",
    "    \n",
    "    print('Identified {} features with atleast one null'.format(\n",
    "        len(null_col_list)))\n",
    "\n",
    "    ###### Finding Blank Spaces in the object column\n",
    "    # Non-obvious nulls such as blanks: The line items where there are spaces \n",
    "    blank_space_col_list = []\n",
    "    object_columns = dataframe.select_dtypes(include=['object']).columns\n",
    "\n",
    "    for col in object_columns:\n",
    "        if sum(dataframe[col]==' '):\n",
    "            blank_space_col_list.append(col)\n",
    "\n",
    "    print('Identified {} features with at least one blank space'.format(\n",
    "        len(blank_space_col_list)))\n",
    "    \n",
    "    ####### Finding Quasi Constant/Constant Value in numerical columns\n",
    "    # Lets remove the variables that have more than 99% of their values as the same \n",
    "    # ie their standard deviation is less than 1 %\n",
    "    \n",
    "    numeric_df = dataframe._get_numeric_data()\n",
    "    constant_numeric_col_list = [col for col in numeric_df.columns if numeric_df[col].std()<0.01]\n",
    "\n",
    "    print('Identified {} numeric features that have quasi-constant values'.format(\n",
    "        len(constant_numeric_col_list)))\n",
    "    \n",
    "    # We use a separate logic for the non-numerical variables because if you have closely varying float values\n",
    "    # then the below code snippet wont pick it up\n",
    "    \n",
    "    ###### Finding Quasi Constant/Constant non_numeric value\n",
    "    constant_non_numeric_col_list = []\n",
    "    \n",
    "    # Find the columns that are not in numeric_df\n",
    "    non_numeric_col_set = set(dataframe.columns) - set(numeric_df.columns)   \n",
    "\n",
    "    for col in non_numeric_col_set:\n",
    "        categorical_mode_value = (dataframe[col].mode().values)[0]\n",
    "        fractional_presence = sum(dataframe[col]==categorical_mode_value)/len(dataframe) \n",
    "    \n",
    "        if fractional_presence > 0.99:\n",
    "            constant_non_numeric_col_list.append(col)\n",
    "            \n",
    "    print('Identified {} non-numeric features that have quasi-constant values'.format(\n",
    "        len(constant_non_numeric_col_list)))\n",
    "    \n",
    "    return null_col_list, blank_space_col_list, constant_numeric_col_list, constant_non_numeric_col_list"
   ]
  },
  {
   "cell_type": "code",
   "execution_count": 50,
   "id": "819978b6-4586-4f8b-89fb-d88a308d0a0c",
   "metadata": {},
   "outputs": [
    {
     "name": "stdout",
     "output_type": "stream",
     "text": [
      "Identified 0 features with atleast one null\n",
      "Identified 0 features with at least one blank space\n",
      "Identified 0 numeric features that have quasi-constant values\n",
      "Identified 0 non-numeric features that have quasi-constant values\n"
     ]
    }
   ],
   "source": [
    "# use the above custom function to figure out the if there are any columns we need to be concerned about\n",
    "null_col_list, blank_space_col_list, constant_numeric_col_list, \\\n",
    "constant_non_numeric_col_list = find_bad_columns_function(thyroidDF)"
   ]
  },
  {
   "cell_type": "markdown",
   "id": "11efbc1a",
   "metadata": {},
   "source": [
    "### 4.4 Data Cleansing\n",
    "#### No bad columns\n",
    "#### No null values\n",
    "#### No categorical values to encode (one-hot for stat analysis)"
   ]
  },
  {
   "cell_type": "markdown",
   "id": "900b4811-7a26-4844-ad2c-191e7a86722e",
   "metadata": {},
   "source": [
    "### 4.5 Export DataFrame as csv"
   ]
  },
  {
   "cell_type": "code",
   "execution_count": 51,
   "id": "727ac602",
   "metadata": {},
   "outputs": [],
   "source": [
    "dataDirectory = \"../01-Data/Processed\"\n",
    "csvFile = \"thyroid.csv\"\n",
    "csvdataFile = dataDirectory + csvFile\n",
    "thyroidDF.to_csv(csvdataFile)"
   ]
  },
  {
   "cell_type": "code",
   "execution_count": null,
   "id": "8dfcc7dc",
   "metadata": {},
   "outputs": [],
   "source": []
  },
  {
   "cell_type": "code",
   "execution_count": null,
   "id": "df964067",
   "metadata": {},
   "outputs": [],
   "source": []
  },
  {
   "cell_type": "code",
   "execution_count": null,
   "id": "fb4ec137-4503-487b-9417-4ee658f48730",
   "metadata": {},
   "outputs": [],
   "source": []
  },
  {
   "cell_type": "code",
   "execution_count": null,
   "id": "54b2361a-198e-4c10-aa6a-dca70ec72cc6",
   "metadata": {},
   "outputs": [],
   "source": []
  },
  {
   "cell_type": "code",
   "execution_count": null,
   "id": "08b7aa31-f07b-4839-b714-ff9893fcd986",
   "metadata": {},
   "outputs": [],
   "source": []
  },
  {
   "cell_type": "code",
   "execution_count": null,
   "id": "2c083896-02b7-40cb-884d-ad8f5870fb33",
   "metadata": {},
   "outputs": [],
   "source": []
  }
 ],
 "metadata": {
  "kernelspec": {
   "display_name": "Python 3 (ipykernel)",
   "language": "python",
   "name": "python3"
  },
  "language_info": {
   "codemirror_mode": {
    "name": "ipython",
    "version": 3
   },
   "file_extension": ".py",
   "mimetype": "text/x-python",
   "name": "python",
   "nbconvert_exporter": "python",
   "pygments_lexer": "ipython3",
   "version": "3.8.19"
  }
 },
 "nbformat": 4,
 "nbformat_minor": 5
}
