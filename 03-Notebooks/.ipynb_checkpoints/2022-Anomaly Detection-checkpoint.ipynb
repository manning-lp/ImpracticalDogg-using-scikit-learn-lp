{
 "cells": [
  {
   "cell_type": "markdown",
   "id": "7de56c83",
   "metadata": {},
   "source": [
    "# Anomaly Detection Notebook\n",
    "# Date Started: 8 August 2022"
   ]
  },
  {
   "cell_type": "markdown",
   "id": "5564110e",
   "metadata": {},
   "source": [
    "## Chapter 1: Workflow"
   ]
  },
  {
   "cell_type": "markdown",
   "id": "7064fef1",
   "metadata": {},
   "source": [
    "## Working Notes:\n",
    "#### 1. Failed adding Metadata to the Notebook (\"invalid JSON\")\n",
    "#### 2. Cannot concatenate X and y DataFrames despite \n",
    "  X info: 3772 rows x 6 columns and \n",
    "  y info: 3772 rows x 1 columns\n",
    "  "
   ]
  },
  {
   "cell_type": "markdown",
   "id": "8dc62b27",
   "metadata": {},
   "source": [
    "#### Metadata Recommended by Hint"
   ]
  },
  {
   "cell_type": "markdown",
   "id": "59e74b1c",
   "metadata": {},
   "source": [
    "\"my_metadata\": {\n",
    "    \"raw_data_folder\": \"../01-Data/\"\n",
    "  }"
   ]
  },
  {
   "cell_type": "markdown",
   "id": "7df94904",
   "metadata": {},
   "source": [
    "#### General Metadata"
   ]
  },
  {
   "cell_type": "markdown",
   "id": "36079eae",
   "metadata": {},
   "source": [
    "\"metadata_notebook\": {\n",
    "    \"metadata_name\": \"Anomaly Detection using Scikit-learn\",\n",
    "    \"metadata_source\": \"Manning Livebooks\",\n",
    "    \"metadata_date_started\": \"20220810\"\n",
    "  }\t\n",
    "\n"
   ]
  },
  {
   "cell_type": "markdown",
   "id": "55492b24",
   "metadata": {},
   "source": [
    "## 1. Download data to directory - Done"
   ]
  },
  {
   "cell_type": "markdown",
   "id": "75fc0149",
   "metadata": {},
   "source": [
    "## 2. Import relevant packages - Done"
   ]
  },
  {
   "cell_type": "code",
   "execution_count": 5,
   "id": "49aaf077",
   "metadata": {},
   "outputs": [],
   "source": [
    "import dask\n",
    "import numpy as np\n",
    "import matplotlib \n",
    "import pandas as pd\n",
    "import sklearn \n",
    "import scipy\n",
    "# Had to add this line because scipy.io cannot be used \n",
    "# without reference importing \n",
    "from scipy import io"
   ]
  },
  {
   "cell_type": "markdown",
   "id": "854f1bc5",
   "metadata": {},
   "source": [
    "## 3. Load Dataset"
   ]
  },
  {
   "cell_type": "code",
   "execution_count": 51,
   "id": "dc95875d",
   "metadata": {},
   "outputs": [
    {
     "name": "stdout",
     "output_type": "stream",
     "text": [
      "../01-Data/Raw/thyroid.mat\n"
     ]
    }
   ],
   "source": [
    "# Add directory as a string\n",
    "rawdataDirectory = \"../01-Data/Raw/\"\n",
    "dataDirectory = \"../01-Data/\"\n",
    "dataFile = \"thyroid.mat\"\n",
    "dataFile = rawdataDirectory + dataFile\n",
    "print (dataFile)"
   ]
  },
  {
   "cell_type": "code",
   "execution_count": 10,
   "id": "3964478e",
   "metadata": {},
   "outputs": [],
   "source": [
    "thyroidD = scipy.io.loadmat(dataFile)"
   ]
  },
  {
   "cell_type": "markdown",
   "id": "6e87d68d",
   "metadata": {},
   "source": [
    "## 4. Extract X and Y and Concatenate"
   ]
  },
  {
   "cell_type": "markdown",
   "id": "1130e592",
   "metadata": {},
   "source": [
    "### 4.1 Explore Dataset as Dictionary"
   ]
  },
  {
   "cell_type": "code",
   "execution_count": 11,
   "id": "4f0367db",
   "metadata": {},
   "outputs": [
    {
     "data": {
      "text/plain": [
       "5"
      ]
     },
     "execution_count": 11,
     "metadata": {},
     "output_type": "execute_result"
    }
   ],
   "source": [
    "len(thyroidD)"
   ]
  },
  {
   "cell_type": "code",
   "execution_count": 12,
   "id": "7afde3d4",
   "metadata": {},
   "outputs": [
    {
     "data": {
      "text/plain": [
       "['__header__', '__version__', '__globals__', 'X', 'y']"
      ]
     },
     "execution_count": 12,
     "metadata": {},
     "output_type": "execute_result"
    }
   ],
   "source": [
    "# \"Iterating over a dictionary produces it's keys\"\n",
    "# Source: https://www.pythonlikeyoumeanit.com/Module2_EssentialsOfPython/DataStructures_II_Dictionaries.html\n",
    "[i for i in thyroidD]"
   ]
  },
  {
   "cell_type": "code",
   "execution_count": 25,
   "id": "2f0fbd0a",
   "metadata": {},
   "outputs": [
    {
     "data": {
      "text/plain": [
       "{'__header__': b'MATLAB 5.0 MAT-file, written by Octave 3.8.0, 2014-12-05 13:11:25 UTC',\n",
       " '__version__': '1.0',\n",
       " '__globals__': [],\n",
       " 'X': array([[7.74193548e-01, 1.13207547e-03, 1.37571157e-01, 2.75700935e-01,\n",
       "         2.95774648e-01, 2.36065574e-01],\n",
       "        [2.47311828e-01, 4.71698113e-04, 2.79886148e-01, 3.29439252e-01,\n",
       "         5.35211268e-01, 1.73770492e-01],\n",
       "        [4.94623656e-01, 3.58490566e-03, 2.22960152e-01, 2.33644860e-01,\n",
       "         5.25821596e-01, 1.24590164e-01],\n",
       "        ...,\n",
       "        [9.35483871e-01, 2.45283019e-02, 1.60341556e-01, 2.82710280e-01,\n",
       "         3.75586854e-01, 2.00000000e-01],\n",
       "        [6.77419355e-01, 1.47169811e-03, 1.90702087e-01, 2.42990654e-01,\n",
       "         3.23943662e-01, 1.95081967e-01],\n",
       "        [4.83870968e-01, 3.56603774e-03, 1.90702087e-01, 2.12616822e-01,\n",
       "         3.38028169e-01, 1.63934426e-01]]),\n",
       " 'y': array([[0.],\n",
       "        [0.],\n",
       "        [0.],\n",
       "        ...,\n",
       "        [0.],\n",
       "        [0.],\n",
       "        [0.]])}"
      ]
     },
     "execution_count": 25,
     "metadata": {},
     "output_type": "execute_result"
    }
   ],
   "source": [
    "# Loop through both keys and values, by using the items() function:\n",
    "# https://www.w3schools.com/python/gloss_python_loop_dictionary_items.asp\n",
    "# for i, j in thyroidD.items():\n",
    "#  print(i, j)\n",
    "#\n",
    "# Simply calling the name of the dictionary gives the same ouput\n",
    "thyroidD"
   ]
  },
  {
   "cell_type": "code",
   "execution_count": 35,
   "id": "c7f148cd",
   "metadata": {},
   "outputs": [
    {
     "data": {
      "text/plain": [
       "[]"
      ]
     },
     "execution_count": 35,
     "metadata": {},
     "output_type": "execute_result"
    }
   ],
   "source": [
    "thyroidHdr = thyroidD[\"__header__\"]\n",
    "thyroidHdr\n",
    "thyroidVrsn = thyroidD[\"__version__\"]\n",
    "thyroidVrsn\n",
    "thyroidGLobals = thyroidD[\"__globals__\"]\n",
    "thyroidGLobals"
   ]
  },
  {
   "cell_type": "markdown",
   "id": "3c0eb1f6",
   "metadata": {},
   "source": [
    "### 4.2 Extract X and y"
   ]
  },
  {
   "cell_type": "code",
   "execution_count": 48,
   "id": "682bd4c4",
   "metadata": {},
   "outputs": [
    {
     "data": {
      "text/html": [
       "<div>\n",
       "<style scoped>\n",
       "    .dataframe tbody tr th:only-of-type {\n",
       "        vertical-align: middle;\n",
       "    }\n",
       "\n",
       "    .dataframe tbody tr th {\n",
       "        vertical-align: top;\n",
       "    }\n",
       "\n",
       "    .dataframe thead th {\n",
       "        text-align: right;\n",
       "    }\n",
       "</style>\n",
       "<table border=\"1\" class=\"dataframe\">\n",
       "  <thead>\n",
       "    <tr style=\"text-align: right;\">\n",
       "      <th></th>\n",
       "      <th>0</th>\n",
       "      <th>1</th>\n",
       "      <th>2</th>\n",
       "      <th>3</th>\n",
       "      <th>4</th>\n",
       "      <th>5</th>\n",
       "    </tr>\n",
       "  </thead>\n",
       "  <tbody>\n",
       "    <tr>\n",
       "      <th>0</th>\n",
       "      <td>0.774194</td>\n",
       "      <td>0.001132</td>\n",
       "      <td>0.137571</td>\n",
       "      <td>0.275701</td>\n",
       "      <td>0.295775</td>\n",
       "      <td>0.236066</td>\n",
       "    </tr>\n",
       "    <tr>\n",
       "      <th>1</th>\n",
       "      <td>0.247312</td>\n",
       "      <td>0.000472</td>\n",
       "      <td>0.279886</td>\n",
       "      <td>0.329439</td>\n",
       "      <td>0.535211</td>\n",
       "      <td>0.173770</td>\n",
       "    </tr>\n",
       "    <tr>\n",
       "      <th>2</th>\n",
       "      <td>0.494624</td>\n",
       "      <td>0.003585</td>\n",
       "      <td>0.222960</td>\n",
       "      <td>0.233645</td>\n",
       "      <td>0.525822</td>\n",
       "      <td>0.124590</td>\n",
       "    </tr>\n",
       "    <tr>\n",
       "      <th>3</th>\n",
       "      <td>0.677419</td>\n",
       "      <td>0.001698</td>\n",
       "      <td>0.156546</td>\n",
       "      <td>0.175234</td>\n",
       "      <td>0.333333</td>\n",
       "      <td>0.136066</td>\n",
       "    </tr>\n",
       "    <tr>\n",
       "      <th>4</th>\n",
       "      <td>0.236559</td>\n",
       "      <td>0.000472</td>\n",
       "      <td>0.241935</td>\n",
       "      <td>0.320093</td>\n",
       "      <td>0.333333</td>\n",
       "      <td>0.247541</td>\n",
       "    </tr>\n",
       "    <tr>\n",
       "      <th>...</th>\n",
       "      <td>...</td>\n",
       "      <td>...</td>\n",
       "      <td>...</td>\n",
       "      <td>...</td>\n",
       "      <td>...</td>\n",
       "      <td>...</td>\n",
       "    </tr>\n",
       "    <tr>\n",
       "      <th>3767</th>\n",
       "      <td>0.817204</td>\n",
       "      <td>0.000113</td>\n",
       "      <td>0.190702</td>\n",
       "      <td>0.287383</td>\n",
       "      <td>0.413146</td>\n",
       "      <td>0.188525</td>\n",
       "    </tr>\n",
       "    <tr>\n",
       "      <th>3768</th>\n",
       "      <td>0.430108</td>\n",
       "      <td>0.002453</td>\n",
       "      <td>0.232448</td>\n",
       "      <td>0.287383</td>\n",
       "      <td>0.446009</td>\n",
       "      <td>0.175410</td>\n",
       "    </tr>\n",
       "    <tr>\n",
       "      <th>3769</th>\n",
       "      <td>0.935484</td>\n",
       "      <td>0.024528</td>\n",
       "      <td>0.160342</td>\n",
       "      <td>0.282710</td>\n",
       "      <td>0.375587</td>\n",
       "      <td>0.200000</td>\n",
       "    </tr>\n",
       "    <tr>\n",
       "      <th>3770</th>\n",
       "      <td>0.677419</td>\n",
       "      <td>0.001472</td>\n",
       "      <td>0.190702</td>\n",
       "      <td>0.242991</td>\n",
       "      <td>0.323944</td>\n",
       "      <td>0.195082</td>\n",
       "    </tr>\n",
       "    <tr>\n",
       "      <th>3771</th>\n",
       "      <td>0.483871</td>\n",
       "      <td>0.003566</td>\n",
       "      <td>0.190702</td>\n",
       "      <td>0.212617</td>\n",
       "      <td>0.338028</td>\n",
       "      <td>0.163934</td>\n",
       "    </tr>\n",
       "  </tbody>\n",
       "</table>\n",
       "<p>3772 rows × 6 columns</p>\n",
       "</div>"
      ],
      "text/plain": [
       "             0         1         2         3         4         5\n",
       "0     0.774194  0.001132  0.137571  0.275701  0.295775  0.236066\n",
       "1     0.247312  0.000472  0.279886  0.329439  0.535211  0.173770\n",
       "2     0.494624  0.003585  0.222960  0.233645  0.525822  0.124590\n",
       "3     0.677419  0.001698  0.156546  0.175234  0.333333  0.136066\n",
       "4     0.236559  0.000472  0.241935  0.320093  0.333333  0.247541\n",
       "...        ...       ...       ...       ...       ...       ...\n",
       "3767  0.817204  0.000113  0.190702  0.287383  0.413146  0.188525\n",
       "3768  0.430108  0.002453  0.232448  0.287383  0.446009  0.175410\n",
       "3769  0.935484  0.024528  0.160342  0.282710  0.375587  0.200000\n",
       "3770  0.677419  0.001472  0.190702  0.242991  0.323944  0.195082\n",
       "3771  0.483871  0.003566  0.190702  0.212617  0.338028  0.163934\n",
       "\n",
       "[3772 rows x 6 columns]"
      ]
     },
     "execution_count": 48,
     "metadata": {},
     "output_type": "execute_result"
    }
   ],
   "source": [
    "# https://www.w3schools.com/python/python_dictionaries_access.asp\n",
    "#  tried to create thyroidX as a np.array but error:\n",
    "#      'builtin_function_or_method' object is not subscriptable\n",
    "# Note: A later error identified that thyoidX was indeed a np array. Not sure where the above came in\n",
    "#    Maybe it was the fact that the array contained tuples and not single values?\n",
    "''' https://www.marsja.se/how-to-convert-numpy-array-to-pandas-dataframe-examples/#:~:text=To%20convert%20an%20array%20to%20a%20dataframe%20with%20Python%20you,to%20be%20named%20with%20columns. '''\n",
    "thyroidX = pd.DataFrame(thyroidD[\"X\"])\n",
    "type(thyroidX)\n",
    "thyroidX"
   ]
  },
  {
   "cell_type": "code",
   "execution_count": 36,
   "id": "a4ea7065",
   "metadata": {},
   "outputs": [
    {
     "name": "stdout",
     "output_type": "stream",
     "text": [
      "<class 'pandas.core.frame.DataFrame'>\n",
      "RangeIndex: 3772 entries, 0 to 3771\n",
      "Data columns (total 6 columns):\n",
      " #   Column  Non-Null Count  Dtype  \n",
      "---  ------  --------------  -----  \n",
      " 0   0       3772 non-null   float64\n",
      " 1   1       3772 non-null   float64\n",
      " 2   2       3772 non-null   float64\n",
      " 3   3       3772 non-null   float64\n",
      " 4   4       3772 non-null   float64\n",
      " 5   5       3772 non-null   float64\n",
      "dtypes: float64(6)\n",
      "memory usage: 176.9 KB\n"
     ]
    },
    {
     "data": {
      "text/html": [
       "<div>\n",
       "<style scoped>\n",
       "    .dataframe tbody tr th:only-of-type {\n",
       "        vertical-align: middle;\n",
       "    }\n",
       "\n",
       "    .dataframe tbody tr th {\n",
       "        vertical-align: top;\n",
       "    }\n",
       "\n",
       "    .dataframe thead th {\n",
       "        text-align: right;\n",
       "    }\n",
       "</style>\n",
       "<table border=\"1\" class=\"dataframe\">\n",
       "  <thead>\n",
       "    <tr style=\"text-align: right;\">\n",
       "      <th></th>\n",
       "      <th>0</th>\n",
       "      <th>1</th>\n",
       "      <th>2</th>\n",
       "      <th>3</th>\n",
       "      <th>4</th>\n",
       "      <th>5</th>\n",
       "    </tr>\n",
       "  </thead>\n",
       "  <tbody>\n",
       "    <tr>\n",
       "      <th>count</th>\n",
       "      <td>3772.000000</td>\n",
       "      <td>3772.000000</td>\n",
       "      <td>3772.000000</td>\n",
       "      <td>3772.000000</td>\n",
       "      <td>3772.000000</td>\n",
       "      <td>3772.000000</td>\n",
       "    </tr>\n",
       "    <tr>\n",
       "      <th>mean</th>\n",
       "      <td>0.543121</td>\n",
       "      <td>0.008983</td>\n",
       "      <td>0.186826</td>\n",
       "      <td>0.248332</td>\n",
       "      <td>0.376941</td>\n",
       "      <td>0.177301</td>\n",
       "    </tr>\n",
       "    <tr>\n",
       "      <th>std</th>\n",
       "      <td>0.203790</td>\n",
       "      <td>0.043978</td>\n",
       "      <td>0.070405</td>\n",
       "      <td>0.080579</td>\n",
       "      <td>0.087382</td>\n",
       "      <td>0.054907</td>\n",
       "    </tr>\n",
       "    <tr>\n",
       "      <th>min</th>\n",
       "      <td>0.000000</td>\n",
       "      <td>0.000000</td>\n",
       "      <td>0.000000</td>\n",
       "      <td>0.000000</td>\n",
       "      <td>0.000000</td>\n",
       "      <td>0.000000</td>\n",
       "    </tr>\n",
       "    <tr>\n",
       "      <th>25%</th>\n",
       "      <td>0.376344</td>\n",
       "      <td>0.001132</td>\n",
       "      <td>0.156546</td>\n",
       "      <td>0.203271</td>\n",
       "      <td>0.328638</td>\n",
       "      <td>0.149180</td>\n",
       "    </tr>\n",
       "    <tr>\n",
       "      <th>50%</th>\n",
       "      <td>0.569892</td>\n",
       "      <td>0.003019</td>\n",
       "      <td>0.190702</td>\n",
       "      <td>0.241822</td>\n",
       "      <td>0.375587</td>\n",
       "      <td>0.173770</td>\n",
       "    </tr>\n",
       "    <tr>\n",
       "      <th>75%</th>\n",
       "      <td>0.709677</td>\n",
       "      <td>0.004528</td>\n",
       "      <td>0.213472</td>\n",
       "      <td>0.282710</td>\n",
       "      <td>0.413146</td>\n",
       "      <td>0.196721</td>\n",
       "    </tr>\n",
       "    <tr>\n",
       "      <th>max</th>\n",
       "      <td>1.000000</td>\n",
       "      <td>1.000000</td>\n",
       "      <td>1.000000</td>\n",
       "      <td>1.000000</td>\n",
       "      <td>1.000000</td>\n",
       "      <td>1.000000</td>\n",
       "    </tr>\n",
       "  </tbody>\n",
       "</table>\n",
       "</div>"
      ],
      "text/plain": [
       "                 0            1            2            3            4  \\\n",
       "count  3772.000000  3772.000000  3772.000000  3772.000000  3772.000000   \n",
       "mean      0.543121     0.008983     0.186826     0.248332     0.376941   \n",
       "std       0.203790     0.043978     0.070405     0.080579     0.087382   \n",
       "min       0.000000     0.000000     0.000000     0.000000     0.000000   \n",
       "25%       0.376344     0.001132     0.156546     0.203271     0.328638   \n",
       "50%       0.569892     0.003019     0.190702     0.241822     0.375587   \n",
       "75%       0.709677     0.004528     0.213472     0.282710     0.413146   \n",
       "max       1.000000     1.000000     1.000000     1.000000     1.000000   \n",
       "\n",
       "                 5  \n",
       "count  3772.000000  \n",
       "mean      0.177301  \n",
       "std       0.054907  \n",
       "min       0.000000  \n",
       "25%       0.149180  \n",
       "50%       0.173770  \n",
       "75%       0.196721  \n",
       "max       1.000000  "
      ]
     },
     "execution_count": 36,
     "metadata": {},
     "output_type": "execute_result"
    }
   ],
   "source": [
    "pd.DataFrame.info(thyroidX)\n",
    "pd.DataFrame.describe(thyroidX)"
   ]
  },
  {
   "cell_type": "code",
   "execution_count": 39,
   "id": "efe913da",
   "metadata": {},
   "outputs": [
    {
     "data": {
      "text/html": [
       "<div>\n",
       "<style scoped>\n",
       "    .dataframe tbody tr th:only-of-type {\n",
       "        vertical-align: middle;\n",
       "    }\n",
       "\n",
       "    .dataframe tbody tr th {\n",
       "        vertical-align: top;\n",
       "    }\n",
       "\n",
       "    .dataframe thead th {\n",
       "        text-align: right;\n",
       "    }\n",
       "</style>\n",
       "<table border=\"1\" class=\"dataframe\">\n",
       "  <thead>\n",
       "    <tr style=\"text-align: right;\">\n",
       "      <th></th>\n",
       "      <th>0</th>\n",
       "    </tr>\n",
       "  </thead>\n",
       "  <tbody>\n",
       "    <tr>\n",
       "      <th>0</th>\n",
       "      <td>0.0</td>\n",
       "    </tr>\n",
       "    <tr>\n",
       "      <th>1</th>\n",
       "      <td>0.0</td>\n",
       "    </tr>\n",
       "    <tr>\n",
       "      <th>2</th>\n",
       "      <td>0.0</td>\n",
       "    </tr>\n",
       "    <tr>\n",
       "      <th>3</th>\n",
       "      <td>0.0</td>\n",
       "    </tr>\n",
       "    <tr>\n",
       "      <th>4</th>\n",
       "      <td>0.0</td>\n",
       "    </tr>\n",
       "    <tr>\n",
       "      <th>...</th>\n",
       "      <td>...</td>\n",
       "    </tr>\n",
       "    <tr>\n",
       "      <th>3767</th>\n",
       "      <td>0.0</td>\n",
       "    </tr>\n",
       "    <tr>\n",
       "      <th>3768</th>\n",
       "      <td>0.0</td>\n",
       "    </tr>\n",
       "    <tr>\n",
       "      <th>3769</th>\n",
       "      <td>0.0</td>\n",
       "    </tr>\n",
       "    <tr>\n",
       "      <th>3770</th>\n",
       "      <td>0.0</td>\n",
       "    </tr>\n",
       "    <tr>\n",
       "      <th>3771</th>\n",
       "      <td>0.0</td>\n",
       "    </tr>\n",
       "  </tbody>\n",
       "</table>\n",
       "<p>3772 rows × 1 columns</p>\n",
       "</div>"
      ],
      "text/plain": [
       "        0\n",
       "0     0.0\n",
       "1     0.0\n",
       "2     0.0\n",
       "3     0.0\n",
       "4     0.0\n",
       "...   ...\n",
       "3767  0.0\n",
       "3768  0.0\n",
       "3769  0.0\n",
       "3770  0.0\n",
       "3771  0.0\n",
       "\n",
       "[3772 rows x 1 columns]"
      ]
     },
     "execution_count": 39,
     "metadata": {},
     "output_type": "execute_result"
    }
   ],
   "source": [
    "thyroid_y = pd.DataFrame(thyroidD[\"y\"])\n",
    "thyroid_y"
   ]
  },
  {
   "cell_type": "code",
   "execution_count": 40,
   "id": "76249f97",
   "metadata": {},
   "outputs": [
    {
     "name": "stdout",
     "output_type": "stream",
     "text": [
      "<class 'pandas.core.frame.DataFrame'>\n",
      "RangeIndex: 3772 entries, 0 to 3771\n",
      "Data columns (total 1 columns):\n",
      " #   Column  Non-Null Count  Dtype  \n",
      "---  ------  --------------  -----  \n",
      " 0   0       3772 non-null   float64\n",
      "dtypes: float64(1)\n",
      "memory usage: 29.6 KB\n"
     ]
    },
    {
     "data": {
      "text/html": [
       "<div>\n",
       "<style scoped>\n",
       "    .dataframe tbody tr th:only-of-type {\n",
       "        vertical-align: middle;\n",
       "    }\n",
       "\n",
       "    .dataframe tbody tr th {\n",
       "        vertical-align: top;\n",
       "    }\n",
       "\n",
       "    .dataframe thead th {\n",
       "        text-align: right;\n",
       "    }\n",
       "</style>\n",
       "<table border=\"1\" class=\"dataframe\">\n",
       "  <thead>\n",
       "    <tr style=\"text-align: right;\">\n",
       "      <th></th>\n",
       "      <th>0</th>\n",
       "    </tr>\n",
       "  </thead>\n",
       "  <tbody>\n",
       "    <tr>\n",
       "      <th>count</th>\n",
       "      <td>3772.000000</td>\n",
       "    </tr>\n",
       "    <tr>\n",
       "      <th>mean</th>\n",
       "      <td>0.024655</td>\n",
       "    </tr>\n",
       "    <tr>\n",
       "      <th>std</th>\n",
       "      <td>0.155093</td>\n",
       "    </tr>\n",
       "    <tr>\n",
       "      <th>min</th>\n",
       "      <td>0.000000</td>\n",
       "    </tr>\n",
       "    <tr>\n",
       "      <th>25%</th>\n",
       "      <td>0.000000</td>\n",
       "    </tr>\n",
       "    <tr>\n",
       "      <th>50%</th>\n",
       "      <td>0.000000</td>\n",
       "    </tr>\n",
       "    <tr>\n",
       "      <th>75%</th>\n",
       "      <td>0.000000</td>\n",
       "    </tr>\n",
       "    <tr>\n",
       "      <th>max</th>\n",
       "      <td>1.000000</td>\n",
       "    </tr>\n",
       "  </tbody>\n",
       "</table>\n",
       "</div>"
      ],
      "text/plain": [
       "                 0\n",
       "count  3772.000000\n",
       "mean      0.024655\n",
       "std       0.155093\n",
       "min       0.000000\n",
       "25%       0.000000\n",
       "50%       0.000000\n",
       "75%       0.000000\n",
       "max       1.000000"
      ]
     },
     "execution_count": 40,
     "metadata": {},
     "output_type": "execute_result"
    }
   ],
   "source": [
    "pd.DataFrame.info(thyroid_y)\n",
    "pd.DataFrame.describe(thyroid_y)"
   ]
  },
  {
   "cell_type": "markdown",
   "id": "49b31166",
   "metadata": {},
   "source": [
    "### 4.3 Concatenate the DataFrames and Inspect"
   ]
  },
  {
   "cell_type": "code",
   "execution_count": 46,
   "id": "0f1c7a77",
   "metadata": {},
   "outputs": [
    {
     "name": "stdout",
     "output_type": "stream",
     "text": [
      "<class 'pandas.core.frame.DataFrame'>\n",
      "RangeIndex: 3772 entries, 0 to 3771\n",
      "Data columns (total 7 columns):\n",
      " #   Column  Non-Null Count  Dtype  \n",
      "---  ------  --------------  -----  \n",
      " 0   0       3772 non-null   float64\n",
      " 1   0       3772 non-null   float64\n",
      " 2   1       3772 non-null   float64\n",
      " 3   2       3772 non-null   float64\n",
      " 4   3       3772 non-null   float64\n",
      " 5   4       3772 non-null   float64\n",
      " 6   5       3772 non-null   float64\n",
      "dtypes: float64(7)\n",
      "memory usage: 206.4 KB\n"
     ]
    },
    {
     "data": {
      "text/html": [
       "<div>\n",
       "<style scoped>\n",
       "    .dataframe tbody tr th:only-of-type {\n",
       "        vertical-align: middle;\n",
       "    }\n",
       "\n",
       "    .dataframe tbody tr th {\n",
       "        vertical-align: top;\n",
       "    }\n",
       "\n",
       "    .dataframe thead th {\n",
       "        text-align: right;\n",
       "    }\n",
       "</style>\n",
       "<table border=\"1\" class=\"dataframe\">\n",
       "  <thead>\n",
       "    <tr style=\"text-align: right;\">\n",
       "      <th></th>\n",
       "      <th>0</th>\n",
       "      <th>0</th>\n",
       "      <th>1</th>\n",
       "      <th>2</th>\n",
       "      <th>3</th>\n",
       "      <th>4</th>\n",
       "      <th>5</th>\n",
       "    </tr>\n",
       "  </thead>\n",
       "  <tbody>\n",
       "    <tr>\n",
       "      <th>0</th>\n",
       "      <td>0.0</td>\n",
       "      <td>0.774194</td>\n",
       "      <td>0.001132</td>\n",
       "      <td>0.137571</td>\n",
       "      <td>0.275701</td>\n",
       "      <td>0.295775</td>\n",
       "      <td>0.236066</td>\n",
       "    </tr>\n",
       "    <tr>\n",
       "      <th>1</th>\n",
       "      <td>0.0</td>\n",
       "      <td>0.247312</td>\n",
       "      <td>0.000472</td>\n",
       "      <td>0.279886</td>\n",
       "      <td>0.329439</td>\n",
       "      <td>0.535211</td>\n",
       "      <td>0.173770</td>\n",
       "    </tr>\n",
       "    <tr>\n",
       "      <th>2</th>\n",
       "      <td>0.0</td>\n",
       "      <td>0.494624</td>\n",
       "      <td>0.003585</td>\n",
       "      <td>0.222960</td>\n",
       "      <td>0.233645</td>\n",
       "      <td>0.525822</td>\n",
       "      <td>0.124590</td>\n",
       "    </tr>\n",
       "    <tr>\n",
       "      <th>3</th>\n",
       "      <td>0.0</td>\n",
       "      <td>0.677419</td>\n",
       "      <td>0.001698</td>\n",
       "      <td>0.156546</td>\n",
       "      <td>0.175234</td>\n",
       "      <td>0.333333</td>\n",
       "      <td>0.136066</td>\n",
       "    </tr>\n",
       "    <tr>\n",
       "      <th>4</th>\n",
       "      <td>0.0</td>\n",
       "      <td>0.236559</td>\n",
       "      <td>0.000472</td>\n",
       "      <td>0.241935</td>\n",
       "      <td>0.320093</td>\n",
       "      <td>0.333333</td>\n",
       "      <td>0.247541</td>\n",
       "    </tr>\n",
       "    <tr>\n",
       "      <th>...</th>\n",
       "      <td>...</td>\n",
       "      <td>...</td>\n",
       "      <td>...</td>\n",
       "      <td>...</td>\n",
       "      <td>...</td>\n",
       "      <td>...</td>\n",
       "      <td>...</td>\n",
       "    </tr>\n",
       "    <tr>\n",
       "      <th>3767</th>\n",
       "      <td>0.0</td>\n",
       "      <td>0.817204</td>\n",
       "      <td>0.000113</td>\n",
       "      <td>0.190702</td>\n",
       "      <td>0.287383</td>\n",
       "      <td>0.413146</td>\n",
       "      <td>0.188525</td>\n",
       "    </tr>\n",
       "    <tr>\n",
       "      <th>3768</th>\n",
       "      <td>0.0</td>\n",
       "      <td>0.430108</td>\n",
       "      <td>0.002453</td>\n",
       "      <td>0.232448</td>\n",
       "      <td>0.287383</td>\n",
       "      <td>0.446009</td>\n",
       "      <td>0.175410</td>\n",
       "    </tr>\n",
       "    <tr>\n",
       "      <th>3769</th>\n",
       "      <td>0.0</td>\n",
       "      <td>0.935484</td>\n",
       "      <td>0.024528</td>\n",
       "      <td>0.160342</td>\n",
       "      <td>0.282710</td>\n",
       "      <td>0.375587</td>\n",
       "      <td>0.200000</td>\n",
       "    </tr>\n",
       "    <tr>\n",
       "      <th>3770</th>\n",
       "      <td>0.0</td>\n",
       "      <td>0.677419</td>\n",
       "      <td>0.001472</td>\n",
       "      <td>0.190702</td>\n",
       "      <td>0.242991</td>\n",
       "      <td>0.323944</td>\n",
       "      <td>0.195082</td>\n",
       "    </tr>\n",
       "    <tr>\n",
       "      <th>3771</th>\n",
       "      <td>0.0</td>\n",
       "      <td>0.483871</td>\n",
       "      <td>0.003566</td>\n",
       "      <td>0.190702</td>\n",
       "      <td>0.212617</td>\n",
       "      <td>0.338028</td>\n",
       "      <td>0.163934</td>\n",
       "    </tr>\n",
       "  </tbody>\n",
       "</table>\n",
       "<p>3772 rows × 7 columns</p>\n",
       "</div>"
      ],
      "text/plain": [
       "        0         0         1         2         3         4         5\n",
       "0     0.0  0.774194  0.001132  0.137571  0.275701  0.295775  0.236066\n",
       "1     0.0  0.247312  0.000472  0.279886  0.329439  0.535211  0.173770\n",
       "2     0.0  0.494624  0.003585  0.222960  0.233645  0.525822  0.124590\n",
       "3     0.0  0.677419  0.001698  0.156546  0.175234  0.333333  0.136066\n",
       "4     0.0  0.236559  0.000472  0.241935  0.320093  0.333333  0.247541\n",
       "...   ...       ...       ...       ...       ...       ...       ...\n",
       "3767  0.0  0.817204  0.000113  0.190702  0.287383  0.413146  0.188525\n",
       "3768  0.0  0.430108  0.002453  0.232448  0.287383  0.446009  0.175410\n",
       "3769  0.0  0.935484  0.024528  0.160342  0.282710  0.375587  0.200000\n",
       "3770  0.0  0.677419  0.001472  0.190702  0.242991  0.323944  0.195082\n",
       "3771  0.0  0.483871  0.003566  0.190702  0.212617  0.338028  0.163934\n",
       "\n",
       "[3772 rows x 7 columns]"
      ]
     },
     "execution_count": 46,
     "metadata": {},
     "output_type": "execute_result"
    }
   ],
   "source": [
    "thyroidDF = pd.concat([thyroid_y, thyroidX], axis = 1)\n",
    "pd.DataFrame.info(thyroidDF)\n",
    "pd.DataFrame.describe(thyroidDF)\n",
    "thyroidDF"
   ]
  },
  {
   "cell_type": "code",
   "execution_count": 47,
   "id": "a40c3f1e",
   "metadata": {},
   "outputs": [
    {
     "name": "stdout",
     "output_type": "stream",
     "text": [
      "        0         0         1         2         3         4         5\n",
      "0     0.0  0.774194  0.001132  0.137571  0.275701  0.295775  0.236066\n",
      "1     0.0  0.247312  0.000472  0.279886  0.329439  0.535211  0.173770\n",
      "2     0.0  0.494624  0.003585  0.222960  0.233645  0.525822  0.124590\n",
      "3     0.0  0.677419  0.001698  0.156546  0.175234  0.333333  0.136066\n",
      "4     0.0  0.236559  0.000472  0.241935  0.320093  0.333333  0.247541\n",
      "...   ...       ...       ...       ...       ...       ...       ...\n",
      "3767  0.0  0.817204  0.000113  0.190702  0.287383  0.413146  0.188525\n",
      "3768  0.0  0.430108  0.002453  0.232448  0.287383  0.446009  0.175410\n",
      "3769  0.0  0.935484  0.024528  0.160342  0.282710  0.375587  0.200000\n",
      "3770  0.0  0.677419  0.001472  0.190702  0.242991  0.323944  0.195082\n",
      "3771  0.0  0.483871  0.003566  0.190702  0.212617  0.338028  0.163934\n",
      "\n",
      "[3772 rows x 7 columns]\n"
     ]
    }
   ],
   "source": [
    "print(thyroidDF)"
   ]
  },
  {
   "cell_type": "markdown",
   "id": "28c6b5c7",
   "metadata": {},
   "source": [
    "### NOTE: No columns appear to need cleaning"
   ]
  },
  {
   "cell_type": "markdown",
   "id": "11efbc1a",
   "metadata": {},
   "source": [
    "### 4.4 Export DataFrame as csv"
   ]
  },
  {
   "cell_type": "code",
   "execution_count": 52,
   "id": "727ac602",
   "metadata": {},
   "outputs": [],
   "source": [
    "dataDirectory = \"../01-Data/\"\n",
    "csvFile = \"thyroid.csv\"\n",
    "csvdataFile = dataDirectory + csvFile\n",
    "thyroidDF.to_csv(csvdataFile)"
   ]
  },
  {
   "cell_type": "code",
   "execution_count": null,
   "id": "8dfcc7dc",
   "metadata": {},
   "outputs": [],
   "source": []
  }
 ],
 "metadata": {
  "kernelspec": {
   "display_name": "Python 3 (ipykernel)",
   "language": "python",
   "name": "python3"
  },
  "language_info": {
   "codemirror_mode": {
    "name": "ipython",
    "version": 3
   },
   "file_extension": ".py",
   "mimetype": "text/x-python",
   "name": "python",
   "nbconvert_exporter": "python",
   "pygments_lexer": "ipython3",
   "version": "3.8.13"
  }
 },
 "nbformat": 4,
 "nbformat_minor": 5
}
