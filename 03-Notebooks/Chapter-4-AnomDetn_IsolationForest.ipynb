{
 "cells": [
  {
   "cell_type": "markdown",
   "id": "7de56c83",
   "metadata": {},
   "source": [
    "# Anomaly Detection Notebook\n",
    "### Date Started:   12 June 2024\n",
    "### Latest Update: 12 June 2024"
   ]
  },
  {
   "cell_type": "markdown",
   "id": "5564110e",
   "metadata": {},
   "source": [
    "## Chapter 3: Isolation Forest\n",
    "#### Tries out Isolation Forest method (Decision Tree Ensemble for Outliers) with different parameters "
   ]
  },
  {
   "cell_type": "markdown",
   "id": "7df94904",
   "metadata": {},
   "source": [
    "## 1. Split Dataframe into Train and Test "
   ]
  },
  {
   "cell_type": "code",
   "execution_count": 1,
   "id": "2b04350e-6adc-49e7-9834-716ec2aa9047",
   "metadata": {},
   "outputs": [],
   "source": [
    "import pandas as pd\n",
    "import sklearn\n",
    "from sklearn.model_selection import train_test_split\n",
    "from sklearn.svm import OneClassSVM\n",
    "from sklearn.covariance import EllipticEnvelope\n",
    "from sklearn.ensemble import IsolationForest\n",
    "\n",
    "from sklearn.metrics import precision_score, recall_score, f1_score,  average_precision_score, confusion_matrix\n",
    "\n",
    "import scipy\n",
    "import matplotlib\n",
    "import matplotlib.pyplot as plt\n",
    "import seaborn"
   ]
  },
  {
   "cell_type": "code",
   "execution_count": 2,
   "id": "2eef9d29-8804-497a-b25b-14de50468ab0",
   "metadata": {},
   "outputs": [],
   "source": [
    "# Import\n",
    "data_directory = \"../01-Data/\"\n",
    "file_name = \"thyroid.csv\"      # Cleaned data exported from Week 1 notebook \n",
    "dfThyroid = pd.read_csv(data_directory  + file_name)"
   ]
  },
  {
   "cell_type": "markdown",
   "id": "1d75e861-6ecb-49a3-9d8b-e7c1ad057cd6",
   "metadata": {},
   "source": [
    "# Check\n",
    "pd.DataFrame.info(dfThyroid)\n",
    "dfThyroid"
   ]
  },
  {
   "cell_type": "code",
   "execution_count": 3,
   "id": "8ba0f095-4529-401a-b4af-4c29b680e0fe",
   "metadata": {},
   "outputs": [
    {
     "data": {
      "text/html": [
       "<div>\n",
       "<style scoped>\n",
       "    .dataframe tbody tr th:only-of-type {\n",
       "        vertical-align: middle;\n",
       "    }\n",
       "\n",
       "    .dataframe tbody tr th {\n",
       "        vertical-align: top;\n",
       "    }\n",
       "\n",
       "    .dataframe thead th {\n",
       "        text-align: right;\n",
       "    }\n",
       "</style>\n",
       "<table border=\"1\" class=\"dataframe\">\n",
       "  <thead>\n",
       "    <tr style=\"text-align: right;\">\n",
       "      <th></th>\n",
       "      <th>0</th>\n",
       "      <th>0.1</th>\n",
       "      <th>1</th>\n",
       "      <th>2</th>\n",
       "      <th>3</th>\n",
       "      <th>4</th>\n",
       "      <th>5</th>\n",
       "    </tr>\n",
       "  </thead>\n",
       "  <tbody>\n",
       "    <tr>\n",
       "      <th>0</th>\n",
       "      <td>0.0</td>\n",
       "      <td>0.774194</td>\n",
       "      <td>0.001132</td>\n",
       "      <td>0.137571</td>\n",
       "      <td>0.275701</td>\n",
       "      <td>0.295775</td>\n",
       "      <td>0.236066</td>\n",
       "    </tr>\n",
       "    <tr>\n",
       "      <th>1</th>\n",
       "      <td>0.0</td>\n",
       "      <td>0.247312</td>\n",
       "      <td>0.000472</td>\n",
       "      <td>0.279886</td>\n",
       "      <td>0.329439</td>\n",
       "      <td>0.535211</td>\n",
       "      <td>0.173770</td>\n",
       "    </tr>\n",
       "    <tr>\n",
       "      <th>2</th>\n",
       "      <td>0.0</td>\n",
       "      <td>0.494624</td>\n",
       "      <td>0.003585</td>\n",
       "      <td>0.222960</td>\n",
       "      <td>0.233645</td>\n",
       "      <td>0.525822</td>\n",
       "      <td>0.124590</td>\n",
       "    </tr>\n",
       "    <tr>\n",
       "      <th>3</th>\n",
       "      <td>0.0</td>\n",
       "      <td>0.677419</td>\n",
       "      <td>0.001698</td>\n",
       "      <td>0.156546</td>\n",
       "      <td>0.175234</td>\n",
       "      <td>0.333333</td>\n",
       "      <td>0.136066</td>\n",
       "    </tr>\n",
       "    <tr>\n",
       "      <th>4</th>\n",
       "      <td>0.0</td>\n",
       "      <td>0.236559</td>\n",
       "      <td>0.000472</td>\n",
       "      <td>0.241935</td>\n",
       "      <td>0.320093</td>\n",
       "      <td>0.333333</td>\n",
       "      <td>0.247541</td>\n",
       "    </tr>\n",
       "    <tr>\n",
       "      <th>...</th>\n",
       "      <td>...</td>\n",
       "      <td>...</td>\n",
       "      <td>...</td>\n",
       "      <td>...</td>\n",
       "      <td>...</td>\n",
       "      <td>...</td>\n",
       "      <td>...</td>\n",
       "    </tr>\n",
       "    <tr>\n",
       "      <th>3767</th>\n",
       "      <td>0.0</td>\n",
       "      <td>0.817204</td>\n",
       "      <td>0.000113</td>\n",
       "      <td>0.190702</td>\n",
       "      <td>0.287383</td>\n",
       "      <td>0.413146</td>\n",
       "      <td>0.188525</td>\n",
       "    </tr>\n",
       "    <tr>\n",
       "      <th>3768</th>\n",
       "      <td>0.0</td>\n",
       "      <td>0.430108</td>\n",
       "      <td>0.002453</td>\n",
       "      <td>0.232448</td>\n",
       "      <td>0.287383</td>\n",
       "      <td>0.446009</td>\n",
       "      <td>0.175410</td>\n",
       "    </tr>\n",
       "    <tr>\n",
       "      <th>3769</th>\n",
       "      <td>0.0</td>\n",
       "      <td>0.935484</td>\n",
       "      <td>0.024528</td>\n",
       "      <td>0.160342</td>\n",
       "      <td>0.282710</td>\n",
       "      <td>0.375587</td>\n",
       "      <td>0.200000</td>\n",
       "    </tr>\n",
       "    <tr>\n",
       "      <th>3770</th>\n",
       "      <td>0.0</td>\n",
       "      <td>0.677419</td>\n",
       "      <td>0.001472</td>\n",
       "      <td>0.190702</td>\n",
       "      <td>0.242991</td>\n",
       "      <td>0.323944</td>\n",
       "      <td>0.195082</td>\n",
       "    </tr>\n",
       "    <tr>\n",
       "      <th>3771</th>\n",
       "      <td>0.0</td>\n",
       "      <td>0.483871</td>\n",
       "      <td>0.003566</td>\n",
       "      <td>0.190702</td>\n",
       "      <td>0.212617</td>\n",
       "      <td>0.338028</td>\n",
       "      <td>0.163934</td>\n",
       "    </tr>\n",
       "  </tbody>\n",
       "</table>\n",
       "<p>3772 rows × 7 columns</p>\n",
       "</div>"
      ],
      "text/plain": [
       "        0       0.1         1         2         3         4         5\n",
       "0     0.0  0.774194  0.001132  0.137571  0.275701  0.295775  0.236066\n",
       "1     0.0  0.247312  0.000472  0.279886  0.329439  0.535211  0.173770\n",
       "2     0.0  0.494624  0.003585  0.222960  0.233645  0.525822  0.124590\n",
       "3     0.0  0.677419  0.001698  0.156546  0.175234  0.333333  0.136066\n",
       "4     0.0  0.236559  0.000472  0.241935  0.320093  0.333333  0.247541\n",
       "...   ...       ...       ...       ...       ...       ...       ...\n",
       "3767  0.0  0.817204  0.000113  0.190702  0.287383  0.413146  0.188525\n",
       "3768  0.0  0.430108  0.002453  0.232448  0.287383  0.446009  0.175410\n",
       "3769  0.0  0.935484  0.024528  0.160342  0.282710  0.375587  0.200000\n",
       "3770  0.0  0.677419  0.001472  0.190702  0.242991  0.323944  0.195082\n",
       "3771  0.0  0.483871  0.003566  0.190702  0.212617  0.338028  0.163934\n",
       "\n",
       "[3772 rows x 7 columns]"
      ]
     },
     "execution_count": 3,
     "metadata": {},
     "output_type": "execute_result"
    }
   ],
   "source": [
    "# Drop first column\n",
    "dfThyroid = dfThyroid.drop(dfThyroid.columns[0], axis=1) \n",
    "dfThyroid"
   ]
  },
  {
   "cell_type": "code",
   "execution_count": 4,
   "id": "26801b3e-7f96-4a5b-bf9c-3ee708ae62e4",
   "metadata": {},
   "outputs": [],
   "source": [
    "# Convert 0 and 1 in 1st column as float to integer\n",
    "# Commented line doesn't work\n",
    "# dfThyroid.iloc[:, 0] = dfThyroid.iloc[:, 0].astype(int)\n",
    "dfThyroid[\"0\"] = dfThyroid[\"0\"].astype(int)"
   ]
  },
  {
   "cell_type": "code",
   "execution_count": 5,
   "id": "d8cf1002-f536-4bec-8a18-28d777008504",
   "metadata": {},
   "outputs": [
    {
     "name": "stdout",
     "output_type": "stream",
     "text": [
      "<class 'pandas.core.frame.DataFrame'>\n",
      "RangeIndex: 3772 entries, 0 to 3771\n",
      "Data columns (total 7 columns):\n",
      " #   Column  Non-Null Count  Dtype  \n",
      "---  ------  --------------  -----  \n",
      " 0   0       3772 non-null   int64  \n",
      " 1   0.1     3772 non-null   float64\n",
      " 2   1       3772 non-null   float64\n",
      " 3   2       3772 non-null   float64\n",
      " 4   3       3772 non-null   float64\n",
      " 5   4       3772 non-null   float64\n",
      " 6   5       3772 non-null   float64\n",
      "dtypes: float64(6), int64(1)\n",
      "memory usage: 206.4 KB\n"
     ]
    },
    {
     "data": {
      "text/html": [
       "<div>\n",
       "<style scoped>\n",
       "    .dataframe tbody tr th:only-of-type {\n",
       "        vertical-align: middle;\n",
       "    }\n",
       "\n",
       "    .dataframe tbody tr th {\n",
       "        vertical-align: top;\n",
       "    }\n",
       "\n",
       "    .dataframe thead th {\n",
       "        text-align: right;\n",
       "    }\n",
       "</style>\n",
       "<table border=\"1\" class=\"dataframe\">\n",
       "  <thead>\n",
       "    <tr style=\"text-align: right;\">\n",
       "      <th></th>\n",
       "      <th>0</th>\n",
       "      <th>0.1</th>\n",
       "      <th>1</th>\n",
       "      <th>2</th>\n",
       "      <th>3</th>\n",
       "      <th>4</th>\n",
       "      <th>5</th>\n",
       "    </tr>\n",
       "  </thead>\n",
       "  <tbody>\n",
       "    <tr>\n",
       "      <th>count</th>\n",
       "      <td>3772.000000</td>\n",
       "      <td>3772.000000</td>\n",
       "      <td>3772.000000</td>\n",
       "      <td>3772.000000</td>\n",
       "      <td>3772.000000</td>\n",
       "      <td>3772.000000</td>\n",
       "      <td>3772.000000</td>\n",
       "    </tr>\n",
       "    <tr>\n",
       "      <th>mean</th>\n",
       "      <td>0.024655</td>\n",
       "      <td>0.543121</td>\n",
       "      <td>0.008983</td>\n",
       "      <td>0.186826</td>\n",
       "      <td>0.248332</td>\n",
       "      <td>0.376941</td>\n",
       "      <td>0.177301</td>\n",
       "    </tr>\n",
       "    <tr>\n",
       "      <th>std</th>\n",
       "      <td>0.155093</td>\n",
       "      <td>0.203790</td>\n",
       "      <td>0.043978</td>\n",
       "      <td>0.070405</td>\n",
       "      <td>0.080579</td>\n",
       "      <td>0.087382</td>\n",
       "      <td>0.054907</td>\n",
       "    </tr>\n",
       "    <tr>\n",
       "      <th>min</th>\n",
       "      <td>0.000000</td>\n",
       "      <td>0.000000</td>\n",
       "      <td>0.000000</td>\n",
       "      <td>0.000000</td>\n",
       "      <td>0.000000</td>\n",
       "      <td>0.000000</td>\n",
       "      <td>0.000000</td>\n",
       "    </tr>\n",
       "    <tr>\n",
       "      <th>25%</th>\n",
       "      <td>0.000000</td>\n",
       "      <td>0.376344</td>\n",
       "      <td>0.001132</td>\n",
       "      <td>0.156546</td>\n",
       "      <td>0.203271</td>\n",
       "      <td>0.328638</td>\n",
       "      <td>0.149180</td>\n",
       "    </tr>\n",
       "    <tr>\n",
       "      <th>50%</th>\n",
       "      <td>0.000000</td>\n",
       "      <td>0.569892</td>\n",
       "      <td>0.003019</td>\n",
       "      <td>0.190702</td>\n",
       "      <td>0.241822</td>\n",
       "      <td>0.375587</td>\n",
       "      <td>0.173770</td>\n",
       "    </tr>\n",
       "    <tr>\n",
       "      <th>75%</th>\n",
       "      <td>0.000000</td>\n",
       "      <td>0.709677</td>\n",
       "      <td>0.004528</td>\n",
       "      <td>0.213472</td>\n",
       "      <td>0.282710</td>\n",
       "      <td>0.413146</td>\n",
       "      <td>0.196721</td>\n",
       "    </tr>\n",
       "    <tr>\n",
       "      <th>max</th>\n",
       "      <td>1.000000</td>\n",
       "      <td>1.000000</td>\n",
       "      <td>1.000000</td>\n",
       "      <td>1.000000</td>\n",
       "      <td>1.000000</td>\n",
       "      <td>1.000000</td>\n",
       "      <td>1.000000</td>\n",
       "    </tr>\n",
       "  </tbody>\n",
       "</table>\n",
       "</div>"
      ],
      "text/plain": [
       "                 0          0.1            1            2            3  \\\n",
       "count  3772.000000  3772.000000  3772.000000  3772.000000  3772.000000   \n",
       "mean      0.024655     0.543121     0.008983     0.186826     0.248332   \n",
       "std       0.155093     0.203790     0.043978     0.070405     0.080579   \n",
       "min       0.000000     0.000000     0.000000     0.000000     0.000000   \n",
       "25%       0.000000     0.376344     0.001132     0.156546     0.203271   \n",
       "50%       0.000000     0.569892     0.003019     0.190702     0.241822   \n",
       "75%       0.000000     0.709677     0.004528     0.213472     0.282710   \n",
       "max       1.000000     1.000000     1.000000     1.000000     1.000000   \n",
       "\n",
       "                 4            5  \n",
       "count  3772.000000  3772.000000  \n",
       "mean      0.376941     0.177301  \n",
       "std       0.087382     0.054907  \n",
       "min       0.000000     0.000000  \n",
       "25%       0.328638     0.149180  \n",
       "50%       0.375587     0.173770  \n",
       "75%       0.413146     0.196721  \n",
       "max       1.000000     1.000000  "
      ]
     },
     "execution_count": 5,
     "metadata": {},
     "output_type": "execute_result"
    }
   ],
   "source": [
    "pd.DataFrame.info(dfThyroid)\n",
    "pd.DataFrame.describe(dfThyroid)"
   ]
  },
  {
   "cell_type": "code",
   "execution_count": 6,
   "id": "ccd4b349-9437-4cb7-9360-27e5b15b7c68",
   "metadata": {},
   "outputs": [],
   "source": [
    "# Splits the dataset into two after randomisation (not suitable for ts)\n",
    "train_dfThyroid, test_dfThyroid = train_test_split(dfThyroid, test_size=0.2, random_state=42)"
   ]
  },
  {
   "cell_type": "code",
   "execution_count": 7,
   "id": "46c9801c-7425-4c84-a5fe-4d243f58ef35",
   "metadata": {},
   "outputs": [
    {
     "name": "stdout",
     "output_type": "stream",
     "text": [
      "Training dataset: \n",
      "\n",
      "<class 'pandas.core.frame.DataFrame'>\n",
      "Index: 3017 entries, 2661 to 3174\n",
      "Data columns (total 7 columns):\n",
      " #   Column  Non-Null Count  Dtype  \n",
      "---  ------  --------------  -----  \n",
      " 0   0       3017 non-null   int64  \n",
      " 1   0.1     3017 non-null   float64\n",
      " 2   1       3017 non-null   float64\n",
      " 3   2       3017 non-null   float64\n",
      " 4   3       3017 non-null   float64\n",
      " 5   4       3017 non-null   float64\n",
      " 6   5       3017 non-null   float64\n",
      "dtypes: float64(6), int64(1)\n",
      "memory usage: 188.6 KB\n"
     ]
    },
    {
     "data": {
      "text/html": [
       "<div>\n",
       "<style scoped>\n",
       "    .dataframe tbody tr th:only-of-type {\n",
       "        vertical-align: middle;\n",
       "    }\n",
       "\n",
       "    .dataframe tbody tr th {\n",
       "        vertical-align: top;\n",
       "    }\n",
       "\n",
       "    .dataframe thead th {\n",
       "        text-align: right;\n",
       "    }\n",
       "</style>\n",
       "<table border=\"1\" class=\"dataframe\">\n",
       "  <thead>\n",
       "    <tr style=\"text-align: right;\">\n",
       "      <th></th>\n",
       "      <th>0</th>\n",
       "      <th>0.1</th>\n",
       "      <th>1</th>\n",
       "      <th>2</th>\n",
       "      <th>3</th>\n",
       "      <th>4</th>\n",
       "      <th>5</th>\n",
       "    </tr>\n",
       "  </thead>\n",
       "  <tbody>\n",
       "    <tr>\n",
       "      <th>count</th>\n",
       "      <td>3017.000000</td>\n",
       "      <td>3017.000000</td>\n",
       "      <td>3017.000000</td>\n",
       "      <td>3017.000000</td>\n",
       "      <td>3017.000000</td>\n",
       "      <td>3017.000000</td>\n",
       "      <td>3017.000000</td>\n",
       "    </tr>\n",
       "    <tr>\n",
       "      <th>mean</th>\n",
       "      <td>0.024528</td>\n",
       "      <td>0.543888</td>\n",
       "      <td>0.009024</td>\n",
       "      <td>0.187627</td>\n",
       "      <td>0.249195</td>\n",
       "      <td>0.377464</td>\n",
       "      <td>0.177772</td>\n",
       "    </tr>\n",
       "    <tr>\n",
       "      <th>std</th>\n",
       "      <td>0.154706</td>\n",
       "      <td>0.204102</td>\n",
       "      <td>0.044331</td>\n",
       "      <td>0.071170</td>\n",
       "      <td>0.081646</td>\n",
       "      <td>0.087264</td>\n",
       "      <td>0.056181</td>\n",
       "    </tr>\n",
       "    <tr>\n",
       "      <th>min</th>\n",
       "      <td>0.000000</td>\n",
       "      <td>0.000000</td>\n",
       "      <td>0.000000</td>\n",
       "      <td>0.000000</td>\n",
       "      <td>0.000000</td>\n",
       "      <td>0.000000</td>\n",
       "      <td>0.000000</td>\n",
       "    </tr>\n",
       "    <tr>\n",
       "      <th>25%</th>\n",
       "      <td>0.000000</td>\n",
       "      <td>0.376344</td>\n",
       "      <td>0.001132</td>\n",
       "      <td>0.156546</td>\n",
       "      <td>0.203271</td>\n",
       "      <td>0.328638</td>\n",
       "      <td>0.149180</td>\n",
       "    </tr>\n",
       "    <tr>\n",
       "      <th>50%</th>\n",
       "      <td>0.000000</td>\n",
       "      <td>0.569892</td>\n",
       "      <td>0.002830</td>\n",
       "      <td>0.190702</td>\n",
       "      <td>0.240654</td>\n",
       "      <td>0.375587</td>\n",
       "      <td>0.173770</td>\n",
       "    </tr>\n",
       "    <tr>\n",
       "      <th>75%</th>\n",
       "      <td>0.000000</td>\n",
       "      <td>0.709677</td>\n",
       "      <td>0.004528</td>\n",
       "      <td>0.213472</td>\n",
       "      <td>0.282710</td>\n",
       "      <td>0.413146</td>\n",
       "      <td>0.196721</td>\n",
       "    </tr>\n",
       "    <tr>\n",
       "      <th>max</th>\n",
       "      <td>1.000000</td>\n",
       "      <td>1.000000</td>\n",
       "      <td>0.901887</td>\n",
       "      <td>1.000000</td>\n",
       "      <td>1.000000</td>\n",
       "      <td>0.896714</td>\n",
       "      <td>1.000000</td>\n",
       "    </tr>\n",
       "  </tbody>\n",
       "</table>\n",
       "</div>"
      ],
      "text/plain": [
       "                 0          0.1            1            2            3  \\\n",
       "count  3017.000000  3017.000000  3017.000000  3017.000000  3017.000000   \n",
       "mean      0.024528     0.543888     0.009024     0.187627     0.249195   \n",
       "std       0.154706     0.204102     0.044331     0.071170     0.081646   \n",
       "min       0.000000     0.000000     0.000000     0.000000     0.000000   \n",
       "25%       0.000000     0.376344     0.001132     0.156546     0.203271   \n",
       "50%       0.000000     0.569892     0.002830     0.190702     0.240654   \n",
       "75%       0.000000     0.709677     0.004528     0.213472     0.282710   \n",
       "max       1.000000     1.000000     0.901887     1.000000     1.000000   \n",
       "\n",
       "                 4            5  \n",
       "count  3017.000000  3017.000000  \n",
       "mean      0.377464     0.177772  \n",
       "std       0.087264     0.056181  \n",
       "min       0.000000     0.000000  \n",
       "25%       0.328638     0.149180  \n",
       "50%       0.375587     0.173770  \n",
       "75%       0.413146     0.196721  \n",
       "max       0.896714     1.000000  "
      ]
     },
     "execution_count": 7,
     "metadata": {},
     "output_type": "execute_result"
    }
   ],
   "source": [
    "# Check \n",
    "print(\"Training dataset: \\n\")\n",
    "pd.DataFrame.info(train_dfThyroid)\n",
    "pd.DataFrame.describe(train_dfThyroid)"
   ]
  },
  {
   "cell_type": "code",
   "execution_count": 8,
   "id": "22816130-9e6d-4aa0-9ce3-8f20037ea1b4",
   "metadata": {},
   "outputs": [
    {
     "name": "stdout",
     "output_type": "stream",
     "text": [
      "\n",
      "\n",
      "<class 'pandas.core.frame.DataFrame'>\n",
      "Index: 755 entries, 270 to 543\n",
      "Data columns (total 7 columns):\n",
      " #   Column  Non-Null Count  Dtype  \n",
      "---  ------  --------------  -----  \n",
      " 0   0       755 non-null    int64  \n",
      " 1   0.1     755 non-null    float64\n",
      " 2   1       755 non-null    float64\n",
      " 3   2       755 non-null    float64\n",
      " 4   3       755 non-null    float64\n",
      " 5   4       755 non-null    float64\n",
      " 6   5       755 non-null    float64\n",
      "dtypes: float64(6), int64(1)\n",
      "memory usage: 47.2 KB\n"
     ]
    },
    {
     "data": {
      "text/html": [
       "<div>\n",
       "<style scoped>\n",
       "    .dataframe tbody tr th:only-of-type {\n",
       "        vertical-align: middle;\n",
       "    }\n",
       "\n",
       "    .dataframe tbody tr th {\n",
       "        vertical-align: top;\n",
       "    }\n",
       "\n",
       "    .dataframe thead th {\n",
       "        text-align: right;\n",
       "    }\n",
       "</style>\n",
       "<table border=\"1\" class=\"dataframe\">\n",
       "  <thead>\n",
       "    <tr style=\"text-align: right;\">\n",
       "      <th></th>\n",
       "      <th>0</th>\n",
       "      <th>0.1</th>\n",
       "      <th>1</th>\n",
       "      <th>2</th>\n",
       "      <th>3</th>\n",
       "      <th>4</th>\n",
       "      <th>5</th>\n",
       "    </tr>\n",
       "  </thead>\n",
       "  <tbody>\n",
       "    <tr>\n",
       "      <th>count</th>\n",
       "      <td>755.000000</td>\n",
       "      <td>755.000000</td>\n",
       "      <td>755.000000</td>\n",
       "      <td>755.000000</td>\n",
       "      <td>755.000000</td>\n",
       "      <td>755.000000</td>\n",
       "      <td>755.000000</td>\n",
       "    </tr>\n",
       "    <tr>\n",
       "      <th>mean</th>\n",
       "      <td>0.025166</td>\n",
       "      <td>0.540056</td>\n",
       "      <td>0.008821</td>\n",
       "      <td>0.183626</td>\n",
       "      <td>0.244886</td>\n",
       "      <td>0.374853</td>\n",
       "      <td>0.175417</td>\n",
       "    </tr>\n",
       "    <tr>\n",
       "      <th>std</th>\n",
       "      <td>0.156732</td>\n",
       "      <td>0.202645</td>\n",
       "      <td>0.042565</td>\n",
       "      <td>0.067215</td>\n",
       "      <td>0.076120</td>\n",
       "      <td>0.087880</td>\n",
       "      <td>0.049478</td>\n",
       "    </tr>\n",
       "    <tr>\n",
       "      <th>min</th>\n",
       "      <td>0.000000</td>\n",
       "      <td>0.000000</td>\n",
       "      <td>0.000000</td>\n",
       "      <td>0.004744</td>\n",
       "      <td>0.006542</td>\n",
       "      <td>0.056338</td>\n",
       "      <td>0.005574</td>\n",
       "    </tr>\n",
       "    <tr>\n",
       "      <th>25%</th>\n",
       "      <td>0.000000</td>\n",
       "      <td>0.376344</td>\n",
       "      <td>0.001132</td>\n",
       "      <td>0.147059</td>\n",
       "      <td>0.200935</td>\n",
       "      <td>0.323944</td>\n",
       "      <td>0.149180</td>\n",
       "    </tr>\n",
       "    <tr>\n",
       "      <th>50%</th>\n",
       "      <td>0.000000</td>\n",
       "      <td>0.569892</td>\n",
       "      <td>0.003208</td>\n",
       "      <td>0.190702</td>\n",
       "      <td>0.242991</td>\n",
       "      <td>0.375587</td>\n",
       "      <td>0.173770</td>\n",
       "    </tr>\n",
       "    <tr>\n",
       "      <th>75%</th>\n",
       "      <td>0.000000</td>\n",
       "      <td>0.698925</td>\n",
       "      <td>0.004717</td>\n",
       "      <td>0.203985</td>\n",
       "      <td>0.281542</td>\n",
       "      <td>0.399061</td>\n",
       "      <td>0.196721</td>\n",
       "    </tr>\n",
       "    <tr>\n",
       "      <th>max</th>\n",
       "      <td>1.000000</td>\n",
       "      <td>1.000000</td>\n",
       "      <td>1.000000</td>\n",
       "      <td>0.668880</td>\n",
       "      <td>0.605140</td>\n",
       "      <td>1.000000</td>\n",
       "      <td>0.508197</td>\n",
       "    </tr>\n",
       "  </tbody>\n",
       "</table>\n",
       "</div>"
      ],
      "text/plain": [
       "                0         0.1           1           2           3           4  \\\n",
       "count  755.000000  755.000000  755.000000  755.000000  755.000000  755.000000   \n",
       "mean     0.025166    0.540056    0.008821    0.183626    0.244886    0.374853   \n",
       "std      0.156732    0.202645    0.042565    0.067215    0.076120    0.087880   \n",
       "min      0.000000    0.000000    0.000000    0.004744    0.006542    0.056338   \n",
       "25%      0.000000    0.376344    0.001132    0.147059    0.200935    0.323944   \n",
       "50%      0.000000    0.569892    0.003208    0.190702    0.242991    0.375587   \n",
       "75%      0.000000    0.698925    0.004717    0.203985    0.281542    0.399061   \n",
       "max      1.000000    1.000000    1.000000    0.668880    0.605140    1.000000   \n",
       "\n",
       "                5  \n",
       "count  755.000000  \n",
       "mean     0.175417  \n",
       "std      0.049478  \n",
       "min      0.005574  \n",
       "25%      0.149180  \n",
       "50%      0.173770  \n",
       "75%      0.196721  \n",
       "max      0.508197  "
      ]
     },
     "execution_count": 8,
     "metadata": {},
     "output_type": "execute_result"
    }
   ],
   "source": [
    "print(\"\\n\")\n",
    "pd.DataFrame.info(test_dfThyroid)\n",
    "pd.DataFrame.describe(test_dfThyroid)"
   ]
  },
  {
   "cell_type": "markdown",
   "id": "75fc0149",
   "metadata": {},
   "source": [
    "## 2. Quantify the number of outliers"
   ]
  },
  {
   "cell_type": "code",
   "execution_count": 9,
   "id": "c1c5bca5-2f9a-4b5d-8a96-97c9647b38e3",
   "metadata": {},
   "outputs": [
    {
     "name": "stdout",
     "output_type": "stream",
     "text": [
      "Number of outliers in entire dataset: 93\n"
     ]
    }
   ],
   "source": [
    "# Count the number of outliers\n",
    "outlier_count = dfThyroid[dfThyroid.iloc[:, 0] == 1].shape[0]\n",
    "\n",
    "print(f\"Number of outliers in entire dataset: {outlier_count}\")"
   ]
  },
  {
   "cell_type": "code",
   "execution_count": 10,
   "id": "d887a2e3-85e6-4b76-b889-749df1eeb058",
   "metadata": {},
   "outputs": [
    {
     "name": "stdout",
     "output_type": "stream",
     "text": [
      "Number of outliers in training dataset: 74\n",
      "Number of outliers in training dataset: 19\n"
     ]
    }
   ],
   "source": [
    "# Count the number of outliers in Train and Test\n",
    "train_outlier_count = train_dfThyroid[train_dfThyroid.iloc[:, 0] == 1].shape[0]\n",
    "print(f\"Number of outliers in training dataset: {train_outlier_count}\")\n",
    "\n",
    "test_outlier_count = test_dfThyroid[test_dfThyroid.iloc[:, 0] == 1].shape[0]\n",
    "print(f\"Number of outliers in training dataset: {test_outlier_count}\")"
   ]
  },
  {
   "cell_type": "markdown",
   "id": "14ef7de4-654b-4ecf-adb2-f9c89f9a3efe",
   "metadata": {},
   "source": [
    "## 3. Separate out samples corresponding to the inliers"
   ]
  },
  {
   "cell_type": "code",
   "execution_count": 11,
   "id": "a756ca1d-bbc0-4c49-adc9-532442cf90ba",
   "metadata": {},
   "outputs": [
    {
     "name": "stdout",
     "output_type": "stream",
     "text": [
      "Number of training inliers: 2943\n",
      "Number of training outliers: 74\n",
      "Outlier fraction is: 0.024527676499834273\n"
     ]
    }
   ],
   "source": [
    "# Separate training inliers and outliers records \n",
    "train_inliers = train_dfThyroid[train_dfThyroid.iloc[:, 0] == 0]\n",
    "train_outliers = train_dfThyroid[train_dfThyroid.iloc[:, 0] == 1]\n",
    "\n",
    "outliers_fraction = train_outliers.shape[0] / (train_inliers.shape[0] + train_outliers.shape[0])\n",
    "\n",
    "# Display the shape of inliers and outliers DataFrames\n",
    "print(f\"Number of training inliers: {train_inliers.shape[0]}\")\n",
    "print(f\"Number of training outliers: {train_outliers.shape[0]}\")\n",
    "print(f\"Outlier fraction is: {outliers_fraction}\")"
   ]
  },
  {
   "cell_type": "code",
   "execution_count": 12,
   "id": "716c8ef5-a30c-49c7-9c75-2bef9ce48e78",
   "metadata": {},
   "outputs": [
    {
     "name": "stdout",
     "output_type": "stream",
     "text": [
      "Number of inliers: 736\n",
      "Number of outliers: 19\n"
     ]
    }
   ],
   "source": [
    "# Separate testing inliers and outliers\n",
    "test_inliers = test_dfThyroid[test_dfThyroid.iloc[:, 0] == 0]\n",
    "test_outliers = test_dfThyroid[test_dfThyroid.iloc[:, 0] == 1]\n",
    "\n",
    "# Display the shape of inliers and outliers DataFrames\n",
    "print(f\"Number of inliers: {test_inliers.shape[0]}\")\n",
    "print(f\"Number of outliers: {test_outliers.shape[0]}\")"
   ]
  },
  {
   "cell_type": "markdown",
   "id": "737b5248-76a5-44a2-826a-062064151f2d",
   "metadata": {},
   "source": [
    "## 4. Instantiate three Isolation Forest Models"
   ]
  },
  {
   "cell_type": "code",
   "execution_count": 13,
   "id": "434b1ef1-9377-4124-a419-05048b45200d",
   "metadata": {},
   "outputs": [
    {
     "name": "stdout",
     "output_type": "stream",
     "text": [
      "Isolation Forest with 50 trees:  IsolationForest(n_estimators=50, random_state=42)\n",
      "Isolation Forest with 100 trees:  IsolationForest(random_state=42)\n",
      "Isolation Forest with 200 trees:  IsolationForest(n_estimators=200, random_state=42)\n"
     ]
    }
   ],
   "source": [
    "# Instantiate the three IsolationForest objects\n",
    "iso_forest_50 = IsolationForest(n_estimators=50, random_state=42)\n",
    "iso_forest_100 = IsolationForest(n_estimators=100, random_state=42)\n",
    "iso_forest_200 = IsolationForest(n_estimators=200, random_state=42)\n",
    "\n",
    "# Display the instantiated objects\n",
    "print(\"Isolation Forest with 50 trees: \", iso_forest_50)\n",
    "print(\"Isolation Forest with 100 trees: \", iso_forest_100)\n",
    "print(\"Isolation Forest with 200 trees: \", iso_forest_200)"
   ]
  },
  {
   "cell_type": "code",
   "execution_count": 14,
   "id": "97eb6892-9a5b-45c3-9b18-f0ce221e6b28",
   "metadata": {},
   "outputs": [
    {
     "name": "stdout",
     "output_type": "stream",
     "text": [
      "Empty DataFrame\n",
      "Columns: [Model, Precision, Recall, F1 Score, Average Precision, TN, TP, FN, FP]\n",
      "Index: []\n"
     ]
    }
   ],
   "source": [
    "# Set up df with metrics\n",
    "\n",
    "# Initialize the DataFrame with the required columns\n",
    "metrics_df = pd.DataFrame(columns=[\n",
    "    'Model', \n",
    "    'Precision', \n",
    "    'Recall', \n",
    "    'F1 Score', \n",
    "    'Average Precision', \n",
    "    'TN', \n",
    "    'TP', \n",
    "    'FN', \n",
    "    'FP'\n",
    "])\n",
    "\n",
    "# Display the initialized DataFrame\n",
    "print(metrics_df)"
   ]
  },
  {
   "cell_type": "markdown",
   "id": "5046f8e0-c098-4b05-b66c-92cc5e823cd1",
   "metadata": {},
   "source": [
    "## 5. Fit each of the three models"
   ]
  },
  {
   "cell_type": "code",
   "execution_count": 15,
   "id": "027751d9-c162-4d97-ac3c-947d9b3ca81c",
   "metadata": {},
   "outputs": [
    {
     "name": "stdout",
     "output_type": "stream",
     "text": [
      "Isolation Forest models have been fitted successfully.\n"
     ]
    }
   ],
   "source": [
    "# Drop the target (first) column when assigning X_inliers (target dataset)\n",
    "X_inliers = train_inliers.iloc[:, 1:]\n",
    "\n",
    "# Fit the Isolation Forest models to the inlier data\n",
    "iso_forest_50.fit(X_inliers)\n",
    "iso_forest_100.fit(X_inliers)\n",
    "iso_forest_200.fit(X_inliers)\n",
    "\n",
    "print(\"Isolation Forest models have been fitted successfully.\")"
   ]
  },
  {
   "cell_type": "code",
   "execution_count": null,
   "id": "294e87e8-f989-4bb1-86de-623642429051",
   "metadata": {},
   "outputs": [],
   "source": []
  },
  {
   "cell_type": "markdown",
   "id": "a16947b3-c752-4239-be03-713c3bedf86b",
   "metadata": {},
   "source": [
    "## 6. Evaluate on the Test Features "
   ]
  },
  {
   "cell_type": "code",
   "execution_count": 16,
   "id": "33aa92b8-096c-484c-bcbf-573817ec058f",
   "metadata": {},
   "outputs": [],
   "source": [
    "# Separate the test features and labels\n",
    "X_test = test_dfThyroid.iloc[:, 1:]\n",
    "y_test = test_dfThyroid.iloc[:, 0]"
   ]
  },
  {
   "cell_type": "code",
   "execution_count": 17,
   "id": "e02b4aea-b131-40a3-848a-65b50d6a3ab6",
   "metadata": {},
   "outputs": [],
   "source": [
    "# List of models\n",
    "models = [\n",
    "    ('Iso Forest 50 Trees', iso_forest_50),\n",
    "    ('Iso Forest 100 Trees', iso_forest_100),\n",
    "    ('Iso Forest 200 Trees', iso_forest_200)\n",
    "]"
   ]
  },
  {
   "cell_type": "code",
   "execution_count": 18,
   "id": "6ef70711-286a-40ce-8ea4-e67b19d1e8e3",
   "metadata": {},
   "outputs": [
    {
     "name": "stdout",
     "output_type": "stream",
     "text": [
      "                  Model  Precision  Recall  F1 Score  Average Precision  TN  \\\n",
      "0   Iso Forest 50 Trees        0.0     0.0       0.0           0.025166  67   \n",
      "1  Iso Forest 100 Trees        0.0     0.0       0.0           0.025166  65   \n",
      "2  Iso Forest 200 Trees        0.0     0.0       0.0           0.025166  71   \n",
      "\n",
      "  TP  FN   FP  \n",
      "0  0  19  669  \n",
      "1  0  19  671  \n",
      "2  0  19  665  \n",
      "                  Model  Precision  Recall  F1 Score  Average Precision  TN  \\\n",
      "0   Iso Forest 50 Trees        0.0     0.0       0.0           0.025166  67   \n",
      "1  Iso Forest 100 Trees        0.0     0.0       0.0           0.025166  65   \n",
      "2  Iso Forest 200 Trees        0.0     0.0       0.0           0.025166  71   \n",
      "\n",
      "  TP  FN   FP  \n",
      "0  0  19  669  \n",
      "1  0  19  671  \n",
      "2  0  19  665  \n"
     ]
    },
    {
     "name": "stderr",
     "output_type": "stream",
     "text": [
      "/tmp/ipykernel_28046/1355507372.py:31: FutureWarning: The behavior of DataFrame concatenation with empty or all-NA entries is deprecated. In a future version, this will no longer exclude empty or all-NA columns when determining the result dtypes. To retain the old behavior, exclude the relevant entries before the concat operation.\n",
      "  metrics_df = pd.concat([metrics_df, new_row], ignore_index=True)\n"
     ]
    }
   ],
   "source": [
    "\n",
    "# Evaluate each model\n",
    "for model_name, model in models:\n",
    "    # Predict using the fitted model\n",
    "    y_pred = model.predict(X_test)\n",
    "    \n",
    "    # Map predictions to binary values (inliers = 1, outliers = -1)\n",
    "    y_pred = [1 if x == 1 else 0 for x in y_pred]\n",
    "\n",
    "    # Calculate classification metrics\n",
    "    precision = precision_score(y_test, y_pred)\n",
    "    recall = recall_score(y_test, y_pred)\n",
    "    f1 = f1_score(y_test, y_pred)\n",
    "    avg_precision = average_precision_score(y_test, y_pred)\n",
    "    tn, fp, fn, tp = confusion_matrix(y_test, y_pred).ravel()\n",
    "    # Append metrics to the DataFrame\n",
    "\n",
    "    # Create a DataFrame with the new row\n",
    "    new_row = pd.DataFrame([{\n",
    "        'Model': model_name,\n",
    "        'Precision': precision,\n",
    "        'Recall': recall,\n",
    "        'F1 Score': f1,\n",
    "        'Average Precision': avg_precision,\n",
    "        'TN': tn,\n",
    "        'TP': tp,\n",
    "        'FN': fn,\n",
    "        'FP': fp\n",
    "    }])\n",
    "\n",
    "    # Append the new row to the metrics DataFrame\n",
    "    metrics_df = pd.concat([metrics_df, new_row], ignore_index=True)\n",
    "\n",
    "# Display the metrics DataFrame\n",
    "print(metrics_df)\n",
    "\n",
    "# Copy to a separate dataframe\n",
    "dfMetrics_IsoForest = metrics_df\n",
    "print(dfMetrics_IsoForest)"
   ]
  },
  {
   "cell_type": "markdown",
   "id": "071ad169-eadf-4992-95b0-923e0d1fb507",
   "metadata": {},
   "source": [
    "## 7. Inspect Metrics and Compare Performance "
   ]
  },
  {
   "cell_type": "code",
   "execution_count": 19,
   "id": "cdb30dbb-f8b6-4935-a6ca-45fc77b795df",
   "metadata": {},
   "outputs": [
    {
     "data": {
      "image/png": "[encoded data removed]",
      "text/plain": [
       "<Figure size 1000x600 with 1 Axes>"
      ]
     },
     "metadata": {},
     "output_type": "display_data"
    },
    {
     "data": {
      "image/png": "[encoded data removed]",
      "text/plain": [
       "<Figure size 1000x600 with 1 Axes>"
      ]
     },
     "metadata": {},
     "output_type": "display_data"
    }
   ],
   "source": [
    "# Plot Precision, Recall, and F1 Score\n",
    "metrics_df.set_index('Model')[['Precision', 'Recall', 'F1 Score', 'Average Precision']].plot(kind='bar', figsize=(10, 6))\n",
    "plt.title('Comparison of Classification Metrics')\n",
    "plt.ylabel('Score')\n",
    "plt.xticks(rotation=0)\n",
    "plt.legend(loc='best')\n",
    "plt.show()\n",
    "\n",
    "# Plot confusion matrix components (TN, TP, FN, FP)\n",
    "metrics_df.set_index('Model')[['TN', 'TP', 'FN', 'FP']].plot(kind='bar', figsize=(10, 6))\n",
    "plt.title('Comparison of Confusion Matrix Components')\n",
    "plt.ylabel('Count')\n",
    "plt.xticks(rotation=0)\n",
    "plt.legend(loc='best')\n",
    "plt.show()\n"
   ]
  },
  {
   "cell_type": "code",
   "execution_count": null,
   "id": "7f002e45-555c-4896-bbdd-15e4da396c20",
   "metadata": {},
   "outputs": [],
   "source": []
  }
 ],
 "metadata": {
  "kernelspec": {
   "display_name": "Python 3 (ipykernel)",
   "language": "python",
   "name": "python3"
  },
  "language_info": {
   "codemirror_mode": {
    "name": "ipython",
    "version": 3
   },
   "file_extension": ".py",
   "mimetype": "text/x-python",
   "name": "python",
   "nbconvert_exporter": "python",
   "pygments_lexer": "ipython3",
   "version": "3.10.14"
  }
 },
 "nbformat": 4,
 "nbformat_minor": 5
}
